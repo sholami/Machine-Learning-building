{
 "cells": [
  {
   "cell_type": "code",
   "execution_count": 1,
   "metadata": {},
   "outputs": [],
   "source": [
    "import pandas as pd\n",
    "import numpy as np\n",
    "import matplotlib.pyplot as plt\n",
    "import seaborn as sns\n",
    "\n",
    "from sklearn.model_selection import train_test_split\n",
    "from sklearn.pipeline import Pipeline\n",
    "from sklearn.preprocessing import StandardScaler\n",
    "from sklearn.model_selection import GridSearchCV\n",
    "from sklearn.preprocessing import LabelEncoder\n",
    "from sklearn.svm import SVC\n",
    "from mixed_naive_bayes import MixedNB\n",
    "\n",
    "\n",
    "from sklearn.metrics import accuracy_score, precision_score, recall_score\n",
    "from sklearn.metrics import mean_squared_error\n",
    "\n",
    "import tensorflow as tf\n",
    "from tensorflow.keras import layers, losses\n",
    "from tensorflow.keras.models import Model\n",
    "from tensorflow.keras import Sequential\n",
    "from tensorflow.keras.layers import Dense, Activation\n",
    "from tensorflow.random import set_seed\n",
    "set_seed(232)\n"
   ]
  },
  {
   "cell_type": "markdown",
   "metadata": {},
   "source": [
    "## Data Loading"
   ]
  },
  {
   "cell_type": "code",
   "execution_count": 2,
   "metadata": {},
   "outputs": [
    {
     "data": {
      "text/html": [
       "<div>\n",
       "<style scoped>\n",
       "    .dataframe tbody tr th:only-of-type {\n",
       "        vertical-align: middle;\n",
       "    }\n",
       "\n",
       "    .dataframe tbody tr th {\n",
       "        vertical-align: top;\n",
       "    }\n",
       "\n",
       "    .dataframe thead th {\n",
       "        text-align: right;\n",
       "    }\n",
       "</style>\n",
       "<table border=\"1\" class=\"dataframe\">\n",
       "  <thead>\n",
       "    <tr style=\"text-align: right;\">\n",
       "      <th></th>\n",
       "      <th>id</th>\n",
       "      <th>Gender</th>\n",
       "      <th>Customer.Type</th>\n",
       "      <th>Age</th>\n",
       "      <th>Type.of.Travel</th>\n",
       "      <th>Class</th>\n",
       "      <th>Flight.Distance</th>\n",
       "      <th>Inflight.wifi.service</th>\n",
       "      <th>Departure.Arrival.time.convenient</th>\n",
       "      <th>Ease.of.Online.booking</th>\n",
       "      <th>...</th>\n",
       "      <th>Inflight.entertainment</th>\n",
       "      <th>On.board.service</th>\n",
       "      <th>Leg.room.service</th>\n",
       "      <th>Baggage.handling</th>\n",
       "      <th>Checkin.service</th>\n",
       "      <th>Inflight.service</th>\n",
       "      <th>Cleanliness</th>\n",
       "      <th>Departure.Delay.in.Minutes</th>\n",
       "      <th>Arrival.Delay.in.Minutes</th>\n",
       "      <th>satisfaction</th>\n",
       "    </tr>\n",
       "  </thead>\n",
       "  <tbody>\n",
       "    <tr>\n",
       "      <th>0</th>\n",
       "      <td>1</td>\n",
       "      <td>Female</td>\n",
       "      <td>Loyal Customer</td>\n",
       "      <td>56</td>\n",
       "      <td>Business travel</td>\n",
       "      <td>Business</td>\n",
       "      <td>632</td>\n",
       "      <td>2</td>\n",
       "      <td>2</td>\n",
       "      <td>2</td>\n",
       "      <td>...</td>\n",
       "      <td>4</td>\n",
       "      <td>4</td>\n",
       "      <td>5</td>\n",
       "      <td>4</td>\n",
       "      <td>5</td>\n",
       "      <td>4</td>\n",
       "      <td>3</td>\n",
       "      <td>0</td>\n",
       "      <td>0.0</td>\n",
       "      <td>satisfied</td>\n",
       "    </tr>\n",
       "  </tbody>\n",
       "</table>\n",
       "<p>1 rows × 24 columns</p>\n",
       "</div>"
      ],
      "text/plain": [
       "   id  Gender   Customer.Type  Age   Type.of.Travel     Class  \\\n",
       "0   1  Female  Loyal Customer   56  Business travel  Business   \n",
       "\n",
       "   Flight.Distance  Inflight.wifi.service  Departure.Arrival.time.convenient  \\\n",
       "0              632                      2                                  2   \n",
       "\n",
       "   Ease.of.Online.booking  ...  Inflight.entertainment  On.board.service  \\\n",
       "0                       2  ...                       4                 4   \n",
       "\n",
       "   Leg.room.service  Baggage.handling  Checkin.service  Inflight.service  \\\n",
       "0                 5                 4                5                 4   \n",
       "\n",
       "   Cleanliness  Departure.Delay.in.Minutes  Arrival.Delay.in.Minutes  \\\n",
       "0            3                           0                       0.0   \n",
       "\n",
       "   satisfaction  \n",
       "0     satisfied  \n",
       "\n",
       "[1 rows x 24 columns]"
      ]
     },
     "execution_count": 2,
     "metadata": {},
     "output_type": "execute_result"
    }
   ],
   "source": [
    "data = pd.read_csv(\"air_training.csv\")\n",
    "data.head(1)"
   ]
  },
  {
   "cell_type": "code",
   "execution_count": 3,
   "metadata": {},
   "outputs": [
    {
     "name": "stdout",
     "output_type": "stream",
     "text": [
      "<class 'pandas.core.frame.DataFrame'>\n",
      "RangeIndex: 40000 entries, 0 to 39999\n",
      "Data columns (total 24 columns):\n",
      " #   Column                             Non-Null Count  Dtype  \n",
      "---  ------                             --------------  -----  \n",
      " 0   id                                 40000 non-null  int64  \n",
      " 1   Gender                             40000 non-null  object \n",
      " 2   Customer.Type                      40000 non-null  object \n",
      " 3   Age                                40000 non-null  int64  \n",
      " 4   Type.of.Travel                     40000 non-null  object \n",
      " 5   Class                              40000 non-null  object \n",
      " 6   Flight.Distance                    40000 non-null  int64  \n",
      " 7   Inflight.wifi.service              40000 non-null  int64  \n",
      " 8   Departure.Arrival.time.convenient  40000 non-null  int64  \n",
      " 9   Ease.of.Online.booking             40000 non-null  int64  \n",
      " 10  Gate.location                      40000 non-null  int64  \n",
      " 11  Food.and.drink                     40000 non-null  int64  \n",
      " 12  Online.boarding                    40000 non-null  int64  \n",
      " 13  Seat.comfort                       40000 non-null  int64  \n",
      " 14  Inflight.entertainment             40000 non-null  int64  \n",
      " 15  On.board.service                   40000 non-null  int64  \n",
      " 16  Leg.room.service                   40000 non-null  int64  \n",
      " 17  Baggage.handling                   40000 non-null  int64  \n",
      " 18  Checkin.service                    40000 non-null  int64  \n",
      " 19  Inflight.service                   40000 non-null  int64  \n",
      " 20  Cleanliness                        40000 non-null  int64  \n",
      " 21  Departure.Delay.in.Minutes         40000 non-null  int64  \n",
      " 22  Arrival.Delay.in.Minutes           39877 non-null  float64\n",
      " 23  satisfaction                       40000 non-null  object \n",
      "dtypes: float64(1), int64(18), object(5)\n",
      "memory usage: 7.3+ MB\n"
     ]
    }
   ],
   "source": [
    "#l3fts check for the info about the data\n",
    "data.info()"
   ]
  },
  {
   "cell_type": "markdown",
   "metadata": {},
   "source": [
    "## Data Cleaning"
   ]
  },
  {
   "cell_type": "code",
   "execution_count": 4,
   "metadata": {},
   "outputs": [
    {
     "data": {
      "text/plain": [
       "id                                     0\n",
       "Gender                                 0\n",
       "Customer.Type                          0\n",
       "Age                                    0\n",
       "Type.of.Travel                         0\n",
       "Class                                  0\n",
       "Flight.Distance                        0\n",
       "Inflight.wifi.service                  0\n",
       "Departure.Arrival.time.convenient      0\n",
       "Ease.of.Online.booking                 0\n",
       "Gate.location                          0\n",
       "Food.and.drink                         0\n",
       "Online.boarding                        0\n",
       "Seat.comfort                           0\n",
       "Inflight.entertainment                 0\n",
       "On.board.service                       0\n",
       "Leg.room.service                       0\n",
       "Baggage.handling                       0\n",
       "Checkin.service                        0\n",
       "Inflight.service                       0\n",
       "Cleanliness                            0\n",
       "Departure.Delay.in.Minutes             0\n",
       "Arrival.Delay.in.Minutes             123\n",
       "satisfaction                           0\n",
       "dtype: int64"
      ]
     },
     "execution_count": 4,
     "metadata": {},
     "output_type": "execute_result"
    }
   ],
   "source": [
    "data.isnull().sum() \n",
    "\n",
    "# ok so we have some missing values in Arrival.Delay.in"
   ]
  },
  {
   "cell_type": "code",
   "execution_count": 5,
   "metadata": {},
   "outputs": [
    {
     "data": {
      "text/html": [
       "<div>\n",
       "<style scoped>\n",
       "    .dataframe tbody tr th:only-of-type {\n",
       "        vertical-align: middle;\n",
       "    }\n",
       "\n",
       "    .dataframe tbody tr th {\n",
       "        vertical-align: top;\n",
       "    }\n",
       "\n",
       "    .dataframe thead th {\n",
       "        text-align: right;\n",
       "    }\n",
       "</style>\n",
       "<table border=\"1\" class=\"dataframe\">\n",
       "  <thead>\n",
       "    <tr style=\"text-align: right;\">\n",
       "      <th></th>\n",
       "      <th>id</th>\n",
       "      <th>Age</th>\n",
       "      <th>Flight.Distance</th>\n",
       "      <th>Inflight.wifi.service</th>\n",
       "      <th>Departure.Arrival.time.convenient</th>\n",
       "      <th>Ease.of.Online.booking</th>\n",
       "      <th>Gate.location</th>\n",
       "      <th>Food.and.drink</th>\n",
       "      <th>Online.boarding</th>\n",
       "      <th>Seat.comfort</th>\n",
       "      <th>Inflight.entertainment</th>\n",
       "      <th>On.board.service</th>\n",
       "      <th>Leg.room.service</th>\n",
       "      <th>Baggage.handling</th>\n",
       "      <th>Checkin.service</th>\n",
       "      <th>Inflight.service</th>\n",
       "      <th>Cleanliness</th>\n",
       "      <th>Departure.Delay.in.Minutes</th>\n",
       "      <th>Arrival.Delay.in.Minutes</th>\n",
       "    </tr>\n",
       "  </thead>\n",
       "  <tbody>\n",
       "    <tr>\n",
       "      <th>count</th>\n",
       "      <td>40000.00000</td>\n",
       "      <td>40000.000000</td>\n",
       "      <td>40000.000000</td>\n",
       "      <td>40000.000000</td>\n",
       "      <td>40000.000000</td>\n",
       "      <td>40000.000000</td>\n",
       "      <td>40000.000000</td>\n",
       "      <td>40000.000000</td>\n",
       "      <td>40000.000000</td>\n",
       "      <td>40000.000000</td>\n",
       "      <td>40000.000000</td>\n",
       "      <td>40000.000000</td>\n",
       "      <td>40000.000000</td>\n",
       "      <td>40000.000000</td>\n",
       "      <td>40000.000000</td>\n",
       "      <td>40000.000000</td>\n",
       "      <td>40000.000000</td>\n",
       "      <td>40000.000000</td>\n",
       "      <td>39877.000000</td>\n",
       "    </tr>\n",
       "    <tr>\n",
       "      <th>mean</th>\n",
       "      <td>20000.50000</td>\n",
       "      <td>39.321675</td>\n",
       "      <td>1183.097325</td>\n",
       "      <td>2.730175</td>\n",
       "      <td>3.055050</td>\n",
       "      <td>2.760325</td>\n",
       "      <td>2.978650</td>\n",
       "      <td>3.209800</td>\n",
       "      <td>3.247200</td>\n",
       "      <td>3.441000</td>\n",
       "      <td>3.363075</td>\n",
       "      <td>3.380500</td>\n",
       "      <td>3.352825</td>\n",
       "      <td>3.631175</td>\n",
       "      <td>3.299375</td>\n",
       "      <td>3.639200</td>\n",
       "      <td>3.292550</td>\n",
       "      <td>14.976675</td>\n",
       "      <td>15.295459</td>\n",
       "    </tr>\n",
       "    <tr>\n",
       "      <th>std</th>\n",
       "      <td>11547.14972</td>\n",
       "      <td>15.124509</td>\n",
       "      <td>992.822081</td>\n",
       "      <td>1.325467</td>\n",
       "      <td>1.523918</td>\n",
       "      <td>1.395503</td>\n",
       "      <td>1.272806</td>\n",
       "      <td>1.324794</td>\n",
       "      <td>1.349995</td>\n",
       "      <td>1.314025</td>\n",
       "      <td>1.327891</td>\n",
       "      <td>1.290276</td>\n",
       "      <td>1.316713</td>\n",
       "      <td>1.182192</td>\n",
       "      <td>1.268046</td>\n",
       "      <td>1.175716</td>\n",
       "      <td>1.308953</td>\n",
       "      <td>39.519878</td>\n",
       "      <td>39.788035</td>\n",
       "    </tr>\n",
       "    <tr>\n",
       "      <th>min</th>\n",
       "      <td>1.00000</td>\n",
       "      <td>7.000000</td>\n",
       "      <td>31.000000</td>\n",
       "      <td>0.000000</td>\n",
       "      <td>0.000000</td>\n",
       "      <td>0.000000</td>\n",
       "      <td>1.000000</td>\n",
       "      <td>0.000000</td>\n",
       "      <td>0.000000</td>\n",
       "      <td>1.000000</td>\n",
       "      <td>0.000000</td>\n",
       "      <td>1.000000</td>\n",
       "      <td>0.000000</td>\n",
       "      <td>1.000000</td>\n",
       "      <td>1.000000</td>\n",
       "      <td>1.000000</td>\n",
       "      <td>0.000000</td>\n",
       "      <td>0.000000</td>\n",
       "      <td>0.000000</td>\n",
       "    </tr>\n",
       "    <tr>\n",
       "      <th>25%</th>\n",
       "      <td>10000.75000</td>\n",
       "      <td>27.000000</td>\n",
       "      <td>413.000000</td>\n",
       "      <td>2.000000</td>\n",
       "      <td>2.000000</td>\n",
       "      <td>2.000000</td>\n",
       "      <td>2.000000</td>\n",
       "      <td>2.000000</td>\n",
       "      <td>2.000000</td>\n",
       "      <td>2.000000</td>\n",
       "      <td>2.000000</td>\n",
       "      <td>2.000000</td>\n",
       "      <td>2.000000</td>\n",
       "      <td>3.000000</td>\n",
       "      <td>3.000000</td>\n",
       "      <td>3.000000</td>\n",
       "      <td>2.000000</td>\n",
       "      <td>0.000000</td>\n",
       "      <td>0.000000</td>\n",
       "    </tr>\n",
       "    <tr>\n",
       "      <th>50%</th>\n",
       "      <td>20000.50000</td>\n",
       "      <td>40.000000</td>\n",
       "      <td>841.000000</td>\n",
       "      <td>3.000000</td>\n",
       "      <td>3.000000</td>\n",
       "      <td>3.000000</td>\n",
       "      <td>3.000000</td>\n",
       "      <td>3.000000</td>\n",
       "      <td>3.000000</td>\n",
       "      <td>4.000000</td>\n",
       "      <td>4.000000</td>\n",
       "      <td>4.000000</td>\n",
       "      <td>4.000000</td>\n",
       "      <td>4.000000</td>\n",
       "      <td>3.000000</td>\n",
       "      <td>4.000000</td>\n",
       "      <td>3.000000</td>\n",
       "      <td>0.000000</td>\n",
       "      <td>0.000000</td>\n",
       "    </tr>\n",
       "    <tr>\n",
       "      <th>75%</th>\n",
       "      <td>30000.25000</td>\n",
       "      <td>51.000000</td>\n",
       "      <td>1727.000000</td>\n",
       "      <td>4.000000</td>\n",
       "      <td>4.000000</td>\n",
       "      <td>4.000000</td>\n",
       "      <td>4.000000</td>\n",
       "      <td>4.000000</td>\n",
       "      <td>4.000000</td>\n",
       "      <td>5.000000</td>\n",
       "      <td>4.000000</td>\n",
       "      <td>4.000000</td>\n",
       "      <td>4.000000</td>\n",
       "      <td>5.000000</td>\n",
       "      <td>4.000000</td>\n",
       "      <td>5.000000</td>\n",
       "      <td>4.000000</td>\n",
       "      <td>12.000000</td>\n",
       "      <td>13.000000</td>\n",
       "    </tr>\n",
       "    <tr>\n",
       "      <th>max</th>\n",
       "      <td>40000.00000</td>\n",
       "      <td>85.000000</td>\n",
       "      <td>4983.000000</td>\n",
       "      <td>5.000000</td>\n",
       "      <td>5.000000</td>\n",
       "      <td>5.000000</td>\n",
       "      <td>5.000000</td>\n",
       "      <td>5.000000</td>\n",
       "      <td>5.000000</td>\n",
       "      <td>5.000000</td>\n",
       "      <td>5.000000</td>\n",
       "      <td>5.000000</td>\n",
       "      <td>5.000000</td>\n",
       "      <td>5.000000</td>\n",
       "      <td>5.000000</td>\n",
       "      <td>5.000000</td>\n",
       "      <td>5.000000</td>\n",
       "      <td>1305.000000</td>\n",
       "      <td>1280.000000</td>\n",
       "    </tr>\n",
       "  </tbody>\n",
       "</table>\n",
       "</div>"
      ],
      "text/plain": [
       "                id           Age  Flight.Distance  Inflight.wifi.service  \\\n",
       "count  40000.00000  40000.000000     40000.000000           40000.000000   \n",
       "mean   20000.50000     39.321675      1183.097325               2.730175   \n",
       "std    11547.14972     15.124509       992.822081               1.325467   \n",
       "min        1.00000      7.000000        31.000000               0.000000   \n",
       "25%    10000.75000     27.000000       413.000000               2.000000   \n",
       "50%    20000.50000     40.000000       841.000000               3.000000   \n",
       "75%    30000.25000     51.000000      1727.000000               4.000000   \n",
       "max    40000.00000     85.000000      4983.000000               5.000000   \n",
       "\n",
       "       Departure.Arrival.time.convenient  Ease.of.Online.booking  \\\n",
       "count                       40000.000000            40000.000000   \n",
       "mean                            3.055050                2.760325   \n",
       "std                             1.523918                1.395503   \n",
       "min                             0.000000                0.000000   \n",
       "25%                             2.000000                2.000000   \n",
       "50%                             3.000000                3.000000   \n",
       "75%                             4.000000                4.000000   \n",
       "max                             5.000000                5.000000   \n",
       "\n",
       "       Gate.location  Food.and.drink  Online.boarding  Seat.comfort  \\\n",
       "count   40000.000000    40000.000000     40000.000000  40000.000000   \n",
       "mean        2.978650        3.209800         3.247200      3.441000   \n",
       "std         1.272806        1.324794         1.349995      1.314025   \n",
       "min         1.000000        0.000000         0.000000      1.000000   \n",
       "25%         2.000000        2.000000         2.000000      2.000000   \n",
       "50%         3.000000        3.000000         3.000000      4.000000   \n",
       "75%         4.000000        4.000000         4.000000      5.000000   \n",
       "max         5.000000        5.000000         5.000000      5.000000   \n",
       "\n",
       "       Inflight.entertainment  On.board.service  Leg.room.service  \\\n",
       "count            40000.000000      40000.000000      40000.000000   \n",
       "mean                 3.363075          3.380500          3.352825   \n",
       "std                  1.327891          1.290276          1.316713   \n",
       "min                  0.000000          1.000000          0.000000   \n",
       "25%                  2.000000          2.000000          2.000000   \n",
       "50%                  4.000000          4.000000          4.000000   \n",
       "75%                  4.000000          4.000000          4.000000   \n",
       "max                  5.000000          5.000000          5.000000   \n",
       "\n",
       "       Baggage.handling  Checkin.service  Inflight.service   Cleanliness  \\\n",
       "count      40000.000000     40000.000000      40000.000000  40000.000000   \n",
       "mean           3.631175         3.299375          3.639200      3.292550   \n",
       "std            1.182192         1.268046          1.175716      1.308953   \n",
       "min            1.000000         1.000000          1.000000      0.000000   \n",
       "25%            3.000000         3.000000          3.000000      2.000000   \n",
       "50%            4.000000         3.000000          4.000000      3.000000   \n",
       "75%            5.000000         4.000000          5.000000      4.000000   \n",
       "max            5.000000         5.000000          5.000000      5.000000   \n",
       "\n",
       "       Departure.Delay.in.Minutes  Arrival.Delay.in.Minutes  \n",
       "count                40000.000000              39877.000000  \n",
       "mean                    14.976675                 15.295459  \n",
       "std                     39.519878                 39.788035  \n",
       "min                      0.000000                  0.000000  \n",
       "25%                      0.000000                  0.000000  \n",
       "50%                      0.000000                  0.000000  \n",
       "75%                     12.000000                 13.000000  \n",
       "max                   1305.000000               1280.000000  "
      ]
     },
     "execution_count": 5,
     "metadata": {},
     "output_type": "execute_result"
    }
   ],
   "source": [
    "data.describe()\n",
    "# the distributtion doesnt change much, d=so dropping the data was good"
   ]
  },
  {
   "cell_type": "markdown",
   "metadata": {},
   "source": [
    "# Data Analysis"
   ]
  },
  {
   "cell_type": "code",
   "execution_count": 6,
   "metadata": {},
   "outputs": [
    {
     "data": {
      "text/html": [
       "<div>\n",
       "<style scoped>\n",
       "    .dataframe tbody tr th:only-of-type {\n",
       "        vertical-align: middle;\n",
       "    }\n",
       "\n",
       "    .dataframe tbody tr th {\n",
       "        vertical-align: top;\n",
       "    }\n",
       "\n",
       "    .dataframe thead th {\n",
       "        text-align: right;\n",
       "    }\n",
       "</style>\n",
       "<table border=\"1\" class=\"dataframe\">\n",
       "  <thead>\n",
       "    <tr style=\"text-align: right;\">\n",
       "      <th></th>\n",
       "      <th>id</th>\n",
       "      <th>Age</th>\n",
       "      <th>Flight.Distance</th>\n",
       "      <th>Inflight.wifi.service</th>\n",
       "      <th>Departure.Arrival.time.convenient</th>\n",
       "      <th>Ease.of.Online.booking</th>\n",
       "      <th>Gate.location</th>\n",
       "      <th>Food.and.drink</th>\n",
       "      <th>Online.boarding</th>\n",
       "      <th>Seat.comfort</th>\n",
       "      <th>Inflight.entertainment</th>\n",
       "      <th>On.board.service</th>\n",
       "      <th>Leg.room.service</th>\n",
       "      <th>Baggage.handling</th>\n",
       "      <th>Checkin.service</th>\n",
       "      <th>Inflight.service</th>\n",
       "      <th>Cleanliness</th>\n",
       "      <th>Departure.Delay.in.Minutes</th>\n",
       "      <th>Arrival.Delay.in.Minutes</th>\n",
       "    </tr>\n",
       "    <tr>\n",
       "      <th>satisfaction</th>\n",
       "      <th></th>\n",
       "      <th></th>\n",
       "      <th></th>\n",
       "      <th></th>\n",
       "      <th></th>\n",
       "      <th></th>\n",
       "      <th></th>\n",
       "      <th></th>\n",
       "      <th></th>\n",
       "      <th></th>\n",
       "      <th></th>\n",
       "      <th></th>\n",
       "      <th></th>\n",
       "      <th></th>\n",
       "      <th></th>\n",
       "      <th></th>\n",
       "      <th></th>\n",
       "      <th></th>\n",
       "      <th></th>\n",
       "    </tr>\n",
       "  </thead>\n",
       "  <tbody>\n",
       "    <tr>\n",
       "      <th>neutral or dissatisfied</th>\n",
       "      <td>19987.856923</td>\n",
       "      <td>37.527713</td>\n",
       "      <td>916.159234</td>\n",
       "      <td>2.405811</td>\n",
       "      <td>3.122782</td>\n",
       "      <td>2.552807</td>\n",
       "      <td>2.981686</td>\n",
       "      <td>2.968479</td>\n",
       "      <td>2.662822</td>\n",
       "      <td>3.041999</td>\n",
       "      <td>2.904733</td>\n",
       "      <td>3.023509</td>\n",
       "      <td>2.994101</td>\n",
       "      <td>3.376976</td>\n",
       "      <td>3.033326</td>\n",
       "      <td>3.386969</td>\n",
       "      <td>2.948492</td>\n",
       "      <td>16.788422</td>\n",
       "      <td>17.350811</td>\n",
       "    </tr>\n",
       "    <tr>\n",
       "      <th>satisfied</th>\n",
       "      <td>20017.114839</td>\n",
       "      <td>41.679202</td>\n",
       "      <td>1533.892739</td>\n",
       "      <td>3.156436</td>\n",
       "      <td>2.966040</td>\n",
       "      <td>3.033034</td>\n",
       "      <td>2.974660</td>\n",
       "      <td>3.526931</td>\n",
       "      <td>4.015158</td>\n",
       "      <td>3.965346</td>\n",
       "      <td>3.965404</td>\n",
       "      <td>3.849638</td>\n",
       "      <td>3.824241</td>\n",
       "      <td>3.965230</td>\n",
       "      <td>3.649002</td>\n",
       "      <td>3.970668</td>\n",
       "      <td>3.744692</td>\n",
       "      <td>12.595777</td>\n",
       "      <td>12.596125</td>\n",
       "    </tr>\n",
       "  </tbody>\n",
       "</table>\n",
       "</div>"
      ],
      "text/plain": [
       "                                   id        Age  Flight.Distance  \\\n",
       "satisfaction                                                        \n",
       "neutral or dissatisfied  19987.856923  37.527713       916.159234   \n",
       "satisfied                20017.114839  41.679202      1533.892739   \n",
       "\n",
       "                         Inflight.wifi.service  \\\n",
       "satisfaction                                     \n",
       "neutral or dissatisfied               2.405811   \n",
       "satisfied                             3.156436   \n",
       "\n",
       "                         Departure.Arrival.time.convenient  \\\n",
       "satisfaction                                                 \n",
       "neutral or dissatisfied                           3.122782   \n",
       "satisfied                                         2.966040   \n",
       "\n",
       "                         Ease.of.Online.booking  Gate.location  \\\n",
       "satisfaction                                                     \n",
       "neutral or dissatisfied                2.552807       2.981686   \n",
       "satisfied                              3.033034       2.974660   \n",
       "\n",
       "                         Food.and.drink  Online.boarding  Seat.comfort  \\\n",
       "satisfaction                                                             \n",
       "neutral or dissatisfied        2.968479         2.662822      3.041999   \n",
       "satisfied                      3.526931         4.015158      3.965346   \n",
       "\n",
       "                         Inflight.entertainment  On.board.service  \\\n",
       "satisfaction                                                        \n",
       "neutral or dissatisfied                2.904733          3.023509   \n",
       "satisfied                              3.965404          3.849638   \n",
       "\n",
       "                         Leg.room.service  Baggage.handling  Checkin.service  \\\n",
       "satisfaction                                                                   \n",
       "neutral or dissatisfied          2.994101          3.376976         3.033326   \n",
       "satisfied                        3.824241          3.965230         3.649002   \n",
       "\n",
       "                         Inflight.service  Cleanliness  \\\n",
       "satisfaction                                             \n",
       "neutral or dissatisfied          3.386969     2.948492   \n",
       "satisfied                        3.970668     3.744692   \n",
       "\n",
       "                         Departure.Delay.in.Minutes  Arrival.Delay.in.Minutes  \n",
       "satisfaction                                                                   \n",
       "neutral or dissatisfied                   16.788422                 17.350811  \n",
       "satisfied                                 12.595777                 12.596125  "
      ]
     },
     "execution_count": 6,
     "metadata": {},
     "output_type": "execute_result"
    }
   ],
   "source": [
    "data.groupby('satisfaction').mean()"
   ]
  },
  {
   "cell_type": "code",
   "execution_count": 7,
   "metadata": {},
   "outputs": [
    {
     "data": {
      "text/html": [
       "<div>\n",
       "<style scoped>\n",
       "    .dataframe tbody tr th:only-of-type {\n",
       "        vertical-align: middle;\n",
       "    }\n",
       "\n",
       "    .dataframe tbody tr th {\n",
       "        vertical-align: top;\n",
       "    }\n",
       "\n",
       "    .dataframe thead th {\n",
       "        text-align: right;\n",
       "    }\n",
       "</style>\n",
       "<table border=\"1\" class=\"dataframe\">\n",
       "  <thead>\n",
       "    <tr style=\"text-align: right;\">\n",
       "      <th></th>\n",
       "      <th>id</th>\n",
       "      <th>Age</th>\n",
       "      <th>Flight.Distance</th>\n",
       "      <th>Inflight.wifi.service</th>\n",
       "      <th>Departure.Arrival.time.convenient</th>\n",
       "      <th>Ease.of.Online.booking</th>\n",
       "      <th>Gate.location</th>\n",
       "      <th>Food.and.drink</th>\n",
       "      <th>Online.boarding</th>\n",
       "      <th>Seat.comfort</th>\n",
       "      <th>Inflight.entertainment</th>\n",
       "      <th>On.board.service</th>\n",
       "      <th>Leg.room.service</th>\n",
       "      <th>Baggage.handling</th>\n",
       "      <th>Checkin.service</th>\n",
       "      <th>Inflight.service</th>\n",
       "      <th>Cleanliness</th>\n",
       "      <th>Departure.Delay.in.Minutes</th>\n",
       "      <th>Arrival.Delay.in.Minutes</th>\n",
       "    </tr>\n",
       "  </thead>\n",
       "  <tbody>\n",
       "    <tr>\n",
       "      <th>id</th>\n",
       "      <td>1.000000</td>\n",
       "      <td>-0.000158</td>\n",
       "      <td>-0.000984</td>\n",
       "      <td>0.001879</td>\n",
       "      <td>0.002843</td>\n",
       "      <td>0.001362</td>\n",
       "      <td>0.003058</td>\n",
       "      <td>0.001793</td>\n",
       "      <td>0.002106</td>\n",
       "      <td>-0.004660</td>\n",
       "      <td>-0.001109</td>\n",
       "      <td>0.002930</td>\n",
       "      <td>0.003319</td>\n",
       "      <td>0.002381</td>\n",
       "      <td>-0.003457</td>\n",
       "      <td>-0.000151</td>\n",
       "      <td>-0.000183</td>\n",
       "      <td>-0.000389</td>\n",
       "      <td>-0.003545</td>\n",
       "    </tr>\n",
       "    <tr>\n",
       "      <th>Age</th>\n",
       "      <td>-0.000158</td>\n",
       "      <td>1.000000</td>\n",
       "      <td>0.098589</td>\n",
       "      <td>0.022041</td>\n",
       "      <td>0.029462</td>\n",
       "      <td>0.026180</td>\n",
       "      <td>-0.001799</td>\n",
       "      <td>0.024549</td>\n",
       "      <td>0.207796</td>\n",
       "      <td>0.156409</td>\n",
       "      <td>0.076114</td>\n",
       "      <td>0.061158</td>\n",
       "      <td>0.042334</td>\n",
       "      <td>-0.042403</td>\n",
       "      <td>0.032690</td>\n",
       "      <td>-0.048066</td>\n",
       "      <td>0.050778</td>\n",
       "      <td>-0.012186</td>\n",
       "      <td>-0.014385</td>\n",
       "    </tr>\n",
       "    <tr>\n",
       "      <th>Flight.Distance</th>\n",
       "      <td>-0.000984</td>\n",
       "      <td>0.098589</td>\n",
       "      <td>1.000000</td>\n",
       "      <td>0.008300</td>\n",
       "      <td>-0.020752</td>\n",
       "      <td>0.069379</td>\n",
       "      <td>0.003154</td>\n",
       "      <td>0.057954</td>\n",
       "      <td>0.220629</td>\n",
       "      <td>0.160120</td>\n",
       "      <td>0.128790</td>\n",
       "      <td>0.110840</td>\n",
       "      <td>0.132953</td>\n",
       "      <td>0.065021</td>\n",
       "      <td>0.079384</td>\n",
       "      <td>0.060226</td>\n",
       "      <td>0.096407</td>\n",
       "      <td>0.002158</td>\n",
       "      <td>-0.003091</td>\n",
       "    </tr>\n",
       "    <tr>\n",
       "      <th>Inflight.wifi.service</th>\n",
       "      <td>0.001879</td>\n",
       "      <td>0.022041</td>\n",
       "      <td>0.008300</td>\n",
       "      <td>1.000000</td>\n",
       "      <td>0.344581</td>\n",
       "      <td>0.716882</td>\n",
       "      <td>0.337467</td>\n",
       "      <td>0.137269</td>\n",
       "      <td>0.462981</td>\n",
       "      <td>0.126700</td>\n",
       "      <td>0.209480</td>\n",
       "      <td>0.113639</td>\n",
       "      <td>0.160955</td>\n",
       "      <td>0.118645</td>\n",
       "      <td>0.042469</td>\n",
       "      <td>0.107276</td>\n",
       "      <td>0.133831</td>\n",
       "      <td>-0.019318</td>\n",
       "      <td>-0.020388</td>\n",
       "    </tr>\n",
       "    <tr>\n",
       "      <th>Departure.Arrival.time.convenient</th>\n",
       "      <td>0.002843</td>\n",
       "      <td>0.029462</td>\n",
       "      <td>-0.020752</td>\n",
       "      <td>0.344581</td>\n",
       "      <td>1.000000</td>\n",
       "      <td>0.438553</td>\n",
       "      <td>0.445607</td>\n",
       "      <td>0.001301</td>\n",
       "      <td>0.068717</td>\n",
       "      <td>0.003432</td>\n",
       "      <td>-0.010409</td>\n",
       "      <td>0.066449</td>\n",
       "      <td>0.012249</td>\n",
       "      <td>0.077298</td>\n",
       "      <td>0.091026</td>\n",
       "      <td>0.070919</td>\n",
       "      <td>0.006364</td>\n",
       "      <td>-0.004715</td>\n",
       "      <td>-0.005928</td>\n",
       "    </tr>\n",
       "    <tr>\n",
       "      <th>Ease.of.Online.booking</th>\n",
       "      <td>0.001362</td>\n",
       "      <td>0.026180</td>\n",
       "      <td>0.069379</td>\n",
       "      <td>0.716882</td>\n",
       "      <td>0.438553</td>\n",
       "      <td>1.000000</td>\n",
       "      <td>0.458451</td>\n",
       "      <td>0.031459</td>\n",
       "      <td>0.409752</td>\n",
       "      <td>0.031710</td>\n",
       "      <td>0.047757</td>\n",
       "      <td>0.034016</td>\n",
       "      <td>0.107902</td>\n",
       "      <td>0.038144</td>\n",
       "      <td>0.011813</td>\n",
       "      <td>0.037104</td>\n",
       "      <td>0.015311</td>\n",
       "      <td>-0.010729</td>\n",
       "      <td>-0.012146</td>\n",
       "    </tr>\n",
       "    <tr>\n",
       "      <th>Gate.location</th>\n",
       "      <td>0.003058</td>\n",
       "      <td>-0.001799</td>\n",
       "      <td>0.003154</td>\n",
       "      <td>0.337467</td>\n",
       "      <td>0.445607</td>\n",
       "      <td>0.458451</td>\n",
       "      <td>1.000000</td>\n",
       "      <td>-0.002488</td>\n",
       "      <td>-0.000842</td>\n",
       "      <td>0.000517</td>\n",
       "      <td>0.001835</td>\n",
       "      <td>-0.034923</td>\n",
       "      <td>-0.013615</td>\n",
       "      <td>0.005184</td>\n",
       "      <td>-0.038668</td>\n",
       "      <td>-0.003327</td>\n",
       "      <td>-0.005119</td>\n",
       "      <td>-0.002154</td>\n",
       "      <td>-0.002536</td>\n",
       "    </tr>\n",
       "    <tr>\n",
       "      <th>Food.and.drink</th>\n",
       "      <td>0.001793</td>\n",
       "      <td>0.024549</td>\n",
       "      <td>0.057954</td>\n",
       "      <td>0.137269</td>\n",
       "      <td>0.001301</td>\n",
       "      <td>0.031459</td>\n",
       "      <td>-0.002488</td>\n",
       "      <td>1.000000</td>\n",
       "      <td>0.237409</td>\n",
       "      <td>0.572565</td>\n",
       "      <td>0.619040</td>\n",
       "      <td>0.055225</td>\n",
       "      <td>0.034685</td>\n",
       "      <td>0.033078</td>\n",
       "      <td>0.093976</td>\n",
       "      <td>0.029724</td>\n",
       "      <td>0.659842</td>\n",
       "      <td>-0.033354</td>\n",
       "      <td>-0.034473</td>\n",
       "    </tr>\n",
       "    <tr>\n",
       "      <th>Online.boarding</th>\n",
       "      <td>0.002106</td>\n",
       "      <td>0.207796</td>\n",
       "      <td>0.220629</td>\n",
       "      <td>0.462981</td>\n",
       "      <td>0.068717</td>\n",
       "      <td>0.409752</td>\n",
       "      <td>-0.000842</td>\n",
       "      <td>0.237409</td>\n",
       "      <td>1.000000</td>\n",
       "      <td>0.419269</td>\n",
       "      <td>0.283511</td>\n",
       "      <td>0.146350</td>\n",
       "      <td>0.123013</td>\n",
       "      <td>0.080094</td>\n",
       "      <td>0.201450</td>\n",
       "      <td>0.073962</td>\n",
       "      <td>0.331307</td>\n",
       "      <td>-0.018275</td>\n",
       "      <td>-0.020192</td>\n",
       "    </tr>\n",
       "    <tr>\n",
       "      <th>Seat.comfort</th>\n",
       "      <td>-0.004660</td>\n",
       "      <td>0.156409</td>\n",
       "      <td>0.160120</td>\n",
       "      <td>0.126700</td>\n",
       "      <td>0.003432</td>\n",
       "      <td>0.031710</td>\n",
       "      <td>0.000517</td>\n",
       "      <td>0.572565</td>\n",
       "      <td>0.419269</td>\n",
       "      <td>1.000000</td>\n",
       "      <td>0.607382</td>\n",
       "      <td>0.131354</td>\n",
       "      <td>0.108533</td>\n",
       "      <td>0.078893</td>\n",
       "      <td>0.197846</td>\n",
       "      <td>0.069706</td>\n",
       "      <td>0.677277</td>\n",
       "      <td>-0.025494</td>\n",
       "      <td>-0.027155</td>\n",
       "    </tr>\n",
       "    <tr>\n",
       "      <th>Inflight.entertainment</th>\n",
       "      <td>-0.001109</td>\n",
       "      <td>0.076114</td>\n",
       "      <td>0.128790</td>\n",
       "      <td>0.209480</td>\n",
       "      <td>-0.010409</td>\n",
       "      <td>0.047757</td>\n",
       "      <td>0.001835</td>\n",
       "      <td>0.619040</td>\n",
       "      <td>0.283511</td>\n",
       "      <td>0.607382</td>\n",
       "      <td>1.000000</td>\n",
       "      <td>0.418256</td>\n",
       "      <td>0.304376</td>\n",
       "      <td>0.379932</td>\n",
       "      <td>0.122598</td>\n",
       "      <td>0.404035</td>\n",
       "      <td>0.689132</td>\n",
       "      <td>-0.029034</td>\n",
       "      <td>-0.031811</td>\n",
       "    </tr>\n",
       "    <tr>\n",
       "      <th>On.board.service</th>\n",
       "      <td>0.002930</td>\n",
       "      <td>0.061158</td>\n",
       "      <td>0.110840</td>\n",
       "      <td>0.113639</td>\n",
       "      <td>0.066449</td>\n",
       "      <td>0.034016</td>\n",
       "      <td>-0.034923</td>\n",
       "      <td>0.055225</td>\n",
       "      <td>0.146350</td>\n",
       "      <td>0.131354</td>\n",
       "      <td>0.418256</td>\n",
       "      <td>1.000000</td>\n",
       "      <td>0.352070</td>\n",
       "      <td>0.521491</td>\n",
       "      <td>0.240918</td>\n",
       "      <td>0.550153</td>\n",
       "      <td>0.118339</td>\n",
       "      <td>-0.033864</td>\n",
       "      <td>-0.037939</td>\n",
       "    </tr>\n",
       "    <tr>\n",
       "      <th>Leg.room.service</th>\n",
       "      <td>0.003319</td>\n",
       "      <td>0.042334</td>\n",
       "      <td>0.132953</td>\n",
       "      <td>0.160955</td>\n",
       "      <td>0.012249</td>\n",
       "      <td>0.107902</td>\n",
       "      <td>-0.013615</td>\n",
       "      <td>0.034685</td>\n",
       "      <td>0.123013</td>\n",
       "      <td>0.108533</td>\n",
       "      <td>0.304376</td>\n",
       "      <td>0.352070</td>\n",
       "      <td>1.000000</td>\n",
       "      <td>0.364668</td>\n",
       "      <td>0.153942</td>\n",
       "      <td>0.369111</td>\n",
       "      <td>0.098003</td>\n",
       "      <td>0.012304</td>\n",
       "      <td>0.008180</td>\n",
       "    </tr>\n",
       "    <tr>\n",
       "      <th>Baggage.handling</th>\n",
       "      <td>0.002381</td>\n",
       "      <td>-0.042403</td>\n",
       "      <td>0.065021</td>\n",
       "      <td>0.118645</td>\n",
       "      <td>0.077298</td>\n",
       "      <td>0.038144</td>\n",
       "      <td>0.005184</td>\n",
       "      <td>0.033078</td>\n",
       "      <td>0.080094</td>\n",
       "      <td>0.078893</td>\n",
       "      <td>0.379932</td>\n",
       "      <td>0.521491</td>\n",
       "      <td>0.364668</td>\n",
       "      <td>1.000000</td>\n",
       "      <td>0.231076</td>\n",
       "      <td>0.630683</td>\n",
       "      <td>0.095160</td>\n",
       "      <td>-0.001934</td>\n",
       "      <td>-0.005371</td>\n",
       "    </tr>\n",
       "    <tr>\n",
       "      <th>Checkin.service</th>\n",
       "      <td>-0.003457</td>\n",
       "      <td>0.032690</td>\n",
       "      <td>0.079384</td>\n",
       "      <td>0.042469</td>\n",
       "      <td>0.091026</td>\n",
       "      <td>0.011813</td>\n",
       "      <td>-0.038668</td>\n",
       "      <td>0.093976</td>\n",
       "      <td>0.201450</td>\n",
       "      <td>0.197846</td>\n",
       "      <td>0.122598</td>\n",
       "      <td>0.240918</td>\n",
       "      <td>0.153942</td>\n",
       "      <td>0.231076</td>\n",
       "      <td>1.000000</td>\n",
       "      <td>0.236657</td>\n",
       "      <td>0.182084</td>\n",
       "      <td>-0.015524</td>\n",
       "      <td>-0.017002</td>\n",
       "    </tr>\n",
       "    <tr>\n",
       "      <th>Inflight.service</th>\n",
       "      <td>-0.000151</td>\n",
       "      <td>-0.048066</td>\n",
       "      <td>0.060226</td>\n",
       "      <td>0.107276</td>\n",
       "      <td>0.070919</td>\n",
       "      <td>0.037104</td>\n",
       "      <td>-0.003327</td>\n",
       "      <td>0.029724</td>\n",
       "      <td>0.073962</td>\n",
       "      <td>0.069706</td>\n",
       "      <td>0.404035</td>\n",
       "      <td>0.550153</td>\n",
       "      <td>0.369111</td>\n",
       "      <td>0.630683</td>\n",
       "      <td>0.236657</td>\n",
       "      <td>1.000000</td>\n",
       "      <td>0.085776</td>\n",
       "      <td>-0.052316</td>\n",
       "      <td>-0.057291</td>\n",
       "    </tr>\n",
       "    <tr>\n",
       "      <th>Cleanliness</th>\n",
       "      <td>-0.000183</td>\n",
       "      <td>0.050778</td>\n",
       "      <td>0.096407</td>\n",
       "      <td>0.133831</td>\n",
       "      <td>0.006364</td>\n",
       "      <td>0.015311</td>\n",
       "      <td>-0.005119</td>\n",
       "      <td>0.659842</td>\n",
       "      <td>0.331307</td>\n",
       "      <td>0.677277</td>\n",
       "      <td>0.689132</td>\n",
       "      <td>0.118339</td>\n",
       "      <td>0.098003</td>\n",
       "      <td>0.095160</td>\n",
       "      <td>0.182084</td>\n",
       "      <td>0.085776</td>\n",
       "      <td>1.000000</td>\n",
       "      <td>-0.014712</td>\n",
       "      <td>-0.015349</td>\n",
       "    </tr>\n",
       "    <tr>\n",
       "      <th>Departure.Delay.in.Minutes</th>\n",
       "      <td>-0.000389</td>\n",
       "      <td>-0.012186</td>\n",
       "      <td>0.002158</td>\n",
       "      <td>-0.019318</td>\n",
       "      <td>-0.004715</td>\n",
       "      <td>-0.010729</td>\n",
       "      <td>-0.002154</td>\n",
       "      <td>-0.033354</td>\n",
       "      <td>-0.018275</td>\n",
       "      <td>-0.025494</td>\n",
       "      <td>-0.029034</td>\n",
       "      <td>-0.033864</td>\n",
       "      <td>0.012304</td>\n",
       "      <td>-0.001934</td>\n",
       "      <td>-0.015524</td>\n",
       "      <td>-0.052316</td>\n",
       "      <td>-0.014712</td>\n",
       "      <td>1.000000</td>\n",
       "      <td>0.968921</td>\n",
       "    </tr>\n",
       "    <tr>\n",
       "      <th>Arrival.Delay.in.Minutes</th>\n",
       "      <td>-0.003545</td>\n",
       "      <td>-0.014385</td>\n",
       "      <td>-0.003091</td>\n",
       "      <td>-0.020388</td>\n",
       "      <td>-0.005928</td>\n",
       "      <td>-0.012146</td>\n",
       "      <td>-0.002536</td>\n",
       "      <td>-0.034473</td>\n",
       "      <td>-0.020192</td>\n",
       "      <td>-0.027155</td>\n",
       "      <td>-0.031811</td>\n",
       "      <td>-0.037939</td>\n",
       "      <td>0.008180</td>\n",
       "      <td>-0.005371</td>\n",
       "      <td>-0.017002</td>\n",
       "      <td>-0.057291</td>\n",
       "      <td>-0.015349</td>\n",
       "      <td>0.968921</td>\n",
       "      <td>1.000000</td>\n",
       "    </tr>\n",
       "  </tbody>\n",
       "</table>\n",
       "</div>"
      ],
      "text/plain": [
       "                                         id       Age  Flight.Distance  \\\n",
       "id                                 1.000000 -0.000158        -0.000984   \n",
       "Age                               -0.000158  1.000000         0.098589   \n",
       "Flight.Distance                   -0.000984  0.098589         1.000000   \n",
       "Inflight.wifi.service              0.001879  0.022041         0.008300   \n",
       "Departure.Arrival.time.convenient  0.002843  0.029462        -0.020752   \n",
       "Ease.of.Online.booking             0.001362  0.026180         0.069379   \n",
       "Gate.location                      0.003058 -0.001799         0.003154   \n",
       "Food.and.drink                     0.001793  0.024549         0.057954   \n",
       "Online.boarding                    0.002106  0.207796         0.220629   \n",
       "Seat.comfort                      -0.004660  0.156409         0.160120   \n",
       "Inflight.entertainment            -0.001109  0.076114         0.128790   \n",
       "On.board.service                   0.002930  0.061158         0.110840   \n",
       "Leg.room.service                   0.003319  0.042334         0.132953   \n",
       "Baggage.handling                   0.002381 -0.042403         0.065021   \n",
       "Checkin.service                   -0.003457  0.032690         0.079384   \n",
       "Inflight.service                  -0.000151 -0.048066         0.060226   \n",
       "Cleanliness                       -0.000183  0.050778         0.096407   \n",
       "Departure.Delay.in.Minutes        -0.000389 -0.012186         0.002158   \n",
       "Arrival.Delay.in.Minutes          -0.003545 -0.014385        -0.003091   \n",
       "\n",
       "                                   Inflight.wifi.service  \\\n",
       "id                                              0.001879   \n",
       "Age                                             0.022041   \n",
       "Flight.Distance                                 0.008300   \n",
       "Inflight.wifi.service                           1.000000   \n",
       "Departure.Arrival.time.convenient               0.344581   \n",
       "Ease.of.Online.booking                          0.716882   \n",
       "Gate.location                                   0.337467   \n",
       "Food.and.drink                                  0.137269   \n",
       "Online.boarding                                 0.462981   \n",
       "Seat.comfort                                    0.126700   \n",
       "Inflight.entertainment                          0.209480   \n",
       "On.board.service                                0.113639   \n",
       "Leg.room.service                                0.160955   \n",
       "Baggage.handling                                0.118645   \n",
       "Checkin.service                                 0.042469   \n",
       "Inflight.service                                0.107276   \n",
       "Cleanliness                                     0.133831   \n",
       "Departure.Delay.in.Minutes                     -0.019318   \n",
       "Arrival.Delay.in.Minutes                       -0.020388   \n",
       "\n",
       "                                   Departure.Arrival.time.convenient  \\\n",
       "id                                                          0.002843   \n",
       "Age                                                         0.029462   \n",
       "Flight.Distance                                            -0.020752   \n",
       "Inflight.wifi.service                                       0.344581   \n",
       "Departure.Arrival.time.convenient                           1.000000   \n",
       "Ease.of.Online.booking                                      0.438553   \n",
       "Gate.location                                               0.445607   \n",
       "Food.and.drink                                              0.001301   \n",
       "Online.boarding                                             0.068717   \n",
       "Seat.comfort                                                0.003432   \n",
       "Inflight.entertainment                                     -0.010409   \n",
       "On.board.service                                            0.066449   \n",
       "Leg.room.service                                            0.012249   \n",
       "Baggage.handling                                            0.077298   \n",
       "Checkin.service                                             0.091026   \n",
       "Inflight.service                                            0.070919   \n",
       "Cleanliness                                                 0.006364   \n",
       "Departure.Delay.in.Minutes                                 -0.004715   \n",
       "Arrival.Delay.in.Minutes                                   -0.005928   \n",
       "\n",
       "                                   Ease.of.Online.booking  Gate.location  \\\n",
       "id                                               0.001362       0.003058   \n",
       "Age                                              0.026180      -0.001799   \n",
       "Flight.Distance                                  0.069379       0.003154   \n",
       "Inflight.wifi.service                            0.716882       0.337467   \n",
       "Departure.Arrival.time.convenient                0.438553       0.445607   \n",
       "Ease.of.Online.booking                           1.000000       0.458451   \n",
       "Gate.location                                    0.458451       1.000000   \n",
       "Food.and.drink                                   0.031459      -0.002488   \n",
       "Online.boarding                                  0.409752      -0.000842   \n",
       "Seat.comfort                                     0.031710       0.000517   \n",
       "Inflight.entertainment                           0.047757       0.001835   \n",
       "On.board.service                                 0.034016      -0.034923   \n",
       "Leg.room.service                                 0.107902      -0.013615   \n",
       "Baggage.handling                                 0.038144       0.005184   \n",
       "Checkin.service                                  0.011813      -0.038668   \n",
       "Inflight.service                                 0.037104      -0.003327   \n",
       "Cleanliness                                      0.015311      -0.005119   \n",
       "Departure.Delay.in.Minutes                      -0.010729      -0.002154   \n",
       "Arrival.Delay.in.Minutes                        -0.012146      -0.002536   \n",
       "\n",
       "                                   Food.and.drink  Online.boarding  \\\n",
       "id                                       0.001793         0.002106   \n",
       "Age                                      0.024549         0.207796   \n",
       "Flight.Distance                          0.057954         0.220629   \n",
       "Inflight.wifi.service                    0.137269         0.462981   \n",
       "Departure.Arrival.time.convenient        0.001301         0.068717   \n",
       "Ease.of.Online.booking                   0.031459         0.409752   \n",
       "Gate.location                           -0.002488        -0.000842   \n",
       "Food.and.drink                           1.000000         0.237409   \n",
       "Online.boarding                          0.237409         1.000000   \n",
       "Seat.comfort                             0.572565         0.419269   \n",
       "Inflight.entertainment                   0.619040         0.283511   \n",
       "On.board.service                         0.055225         0.146350   \n",
       "Leg.room.service                         0.034685         0.123013   \n",
       "Baggage.handling                         0.033078         0.080094   \n",
       "Checkin.service                          0.093976         0.201450   \n",
       "Inflight.service                         0.029724         0.073962   \n",
       "Cleanliness                              0.659842         0.331307   \n",
       "Departure.Delay.in.Minutes              -0.033354        -0.018275   \n",
       "Arrival.Delay.in.Minutes                -0.034473        -0.020192   \n",
       "\n",
       "                                   Seat.comfort  Inflight.entertainment  \\\n",
       "id                                    -0.004660               -0.001109   \n",
       "Age                                    0.156409                0.076114   \n",
       "Flight.Distance                        0.160120                0.128790   \n",
       "Inflight.wifi.service                  0.126700                0.209480   \n",
       "Departure.Arrival.time.convenient      0.003432               -0.010409   \n",
       "Ease.of.Online.booking                 0.031710                0.047757   \n",
       "Gate.location                          0.000517                0.001835   \n",
       "Food.and.drink                         0.572565                0.619040   \n",
       "Online.boarding                        0.419269                0.283511   \n",
       "Seat.comfort                           1.000000                0.607382   \n",
       "Inflight.entertainment                 0.607382                1.000000   \n",
       "On.board.service                       0.131354                0.418256   \n",
       "Leg.room.service                       0.108533                0.304376   \n",
       "Baggage.handling                       0.078893                0.379932   \n",
       "Checkin.service                        0.197846                0.122598   \n",
       "Inflight.service                       0.069706                0.404035   \n",
       "Cleanliness                            0.677277                0.689132   \n",
       "Departure.Delay.in.Minutes            -0.025494               -0.029034   \n",
       "Arrival.Delay.in.Minutes              -0.027155               -0.031811   \n",
       "\n",
       "                                   On.board.service  Leg.room.service  \\\n",
       "id                                         0.002930          0.003319   \n",
       "Age                                        0.061158          0.042334   \n",
       "Flight.Distance                            0.110840          0.132953   \n",
       "Inflight.wifi.service                      0.113639          0.160955   \n",
       "Departure.Arrival.time.convenient          0.066449          0.012249   \n",
       "Ease.of.Online.booking                     0.034016          0.107902   \n",
       "Gate.location                             -0.034923         -0.013615   \n",
       "Food.and.drink                             0.055225          0.034685   \n",
       "Online.boarding                            0.146350          0.123013   \n",
       "Seat.comfort                               0.131354          0.108533   \n",
       "Inflight.entertainment                     0.418256          0.304376   \n",
       "On.board.service                           1.000000          0.352070   \n",
       "Leg.room.service                           0.352070          1.000000   \n",
       "Baggage.handling                           0.521491          0.364668   \n",
       "Checkin.service                            0.240918          0.153942   \n",
       "Inflight.service                           0.550153          0.369111   \n",
       "Cleanliness                                0.118339          0.098003   \n",
       "Departure.Delay.in.Minutes                -0.033864          0.012304   \n",
       "Arrival.Delay.in.Minutes                  -0.037939          0.008180   \n",
       "\n",
       "                                   Baggage.handling  Checkin.service  \\\n",
       "id                                         0.002381        -0.003457   \n",
       "Age                                       -0.042403         0.032690   \n",
       "Flight.Distance                            0.065021         0.079384   \n",
       "Inflight.wifi.service                      0.118645         0.042469   \n",
       "Departure.Arrival.time.convenient          0.077298         0.091026   \n",
       "Ease.of.Online.booking                     0.038144         0.011813   \n",
       "Gate.location                              0.005184        -0.038668   \n",
       "Food.and.drink                             0.033078         0.093976   \n",
       "Online.boarding                            0.080094         0.201450   \n",
       "Seat.comfort                               0.078893         0.197846   \n",
       "Inflight.entertainment                     0.379932         0.122598   \n",
       "On.board.service                           0.521491         0.240918   \n",
       "Leg.room.service                           0.364668         0.153942   \n",
       "Baggage.handling                           1.000000         0.231076   \n",
       "Checkin.service                            0.231076         1.000000   \n",
       "Inflight.service                           0.630683         0.236657   \n",
       "Cleanliness                                0.095160         0.182084   \n",
       "Departure.Delay.in.Minutes                -0.001934        -0.015524   \n",
       "Arrival.Delay.in.Minutes                  -0.005371        -0.017002   \n",
       "\n",
       "                                   Inflight.service  Cleanliness  \\\n",
       "id                                        -0.000151    -0.000183   \n",
       "Age                                       -0.048066     0.050778   \n",
       "Flight.Distance                            0.060226     0.096407   \n",
       "Inflight.wifi.service                      0.107276     0.133831   \n",
       "Departure.Arrival.time.convenient          0.070919     0.006364   \n",
       "Ease.of.Online.booking                     0.037104     0.015311   \n",
       "Gate.location                             -0.003327    -0.005119   \n",
       "Food.and.drink                             0.029724     0.659842   \n",
       "Online.boarding                            0.073962     0.331307   \n",
       "Seat.comfort                               0.069706     0.677277   \n",
       "Inflight.entertainment                     0.404035     0.689132   \n",
       "On.board.service                           0.550153     0.118339   \n",
       "Leg.room.service                           0.369111     0.098003   \n",
       "Baggage.handling                           0.630683     0.095160   \n",
       "Checkin.service                            0.236657     0.182084   \n",
       "Inflight.service                           1.000000     0.085776   \n",
       "Cleanliness                                0.085776     1.000000   \n",
       "Departure.Delay.in.Minutes                -0.052316    -0.014712   \n",
       "Arrival.Delay.in.Minutes                  -0.057291    -0.015349   \n",
       "\n",
       "                                   Departure.Delay.in.Minutes  \\\n",
       "id                                                  -0.000389   \n",
       "Age                                                 -0.012186   \n",
       "Flight.Distance                                      0.002158   \n",
       "Inflight.wifi.service                               -0.019318   \n",
       "Departure.Arrival.time.convenient                   -0.004715   \n",
       "Ease.of.Online.booking                              -0.010729   \n",
       "Gate.location                                       -0.002154   \n",
       "Food.and.drink                                      -0.033354   \n",
       "Online.boarding                                     -0.018275   \n",
       "Seat.comfort                                        -0.025494   \n",
       "Inflight.entertainment                              -0.029034   \n",
       "On.board.service                                    -0.033864   \n",
       "Leg.room.service                                     0.012304   \n",
       "Baggage.handling                                    -0.001934   \n",
       "Checkin.service                                     -0.015524   \n",
       "Inflight.service                                    -0.052316   \n",
       "Cleanliness                                         -0.014712   \n",
       "Departure.Delay.in.Minutes                           1.000000   \n",
       "Arrival.Delay.in.Minutes                             0.968921   \n",
       "\n",
       "                                   Arrival.Delay.in.Minutes  \n",
       "id                                                -0.003545  \n",
       "Age                                               -0.014385  \n",
       "Flight.Distance                                   -0.003091  \n",
       "Inflight.wifi.service                             -0.020388  \n",
       "Departure.Arrival.time.convenient                 -0.005928  \n",
       "Ease.of.Online.booking                            -0.012146  \n",
       "Gate.location                                     -0.002536  \n",
       "Food.and.drink                                    -0.034473  \n",
       "Online.boarding                                   -0.020192  \n",
       "Seat.comfort                                      -0.027155  \n",
       "Inflight.entertainment                            -0.031811  \n",
       "On.board.service                                  -0.037939  \n",
       "Leg.room.service                                   0.008180  \n",
       "Baggage.handling                                  -0.005371  \n",
       "Checkin.service                                   -0.017002  \n",
       "Inflight.service                                  -0.057291  \n",
       "Cleanliness                                       -0.015349  \n",
       "Departure.Delay.in.Minutes                         0.968921  \n",
       "Arrival.Delay.in.Minutes                           1.000000  "
      ]
     },
     "execution_count": 7,
     "metadata": {},
     "output_type": "execute_result"
    }
   ],
   "source": [
    "#check for highly correlating features\n",
    "data.corr()"
   ]
  },
  {
   "cell_type": "code",
   "execution_count": 8,
   "metadata": {},
   "outputs": [
    {
     "data": {
      "text/html": [
       "<div>\n",
       "<style scoped>\n",
       "    .dataframe tbody tr th:only-of-type {\n",
       "        vertical-align: middle;\n",
       "    }\n",
       "\n",
       "    .dataframe tbody tr th {\n",
       "        vertical-align: top;\n",
       "    }\n",
       "\n",
       "    .dataframe thead th {\n",
       "        text-align: right;\n",
       "    }\n",
       "</style>\n",
       "<table border=\"1\" class=\"dataframe\">\n",
       "  <thead>\n",
       "    <tr style=\"text-align: right;\">\n",
       "      <th></th>\n",
       "      <th>Arrival.Delay.in.Minutes</th>\n",
       "      <th>Departure.Delay.in.Minutes</th>\n",
       "      <th>Flight.Distance</th>\n",
       "    </tr>\n",
       "  </thead>\n",
       "  <tbody>\n",
       "    <tr>\n",
       "      <th>Arrival.Delay.in.Minutes</th>\n",
       "      <td>1.000000</td>\n",
       "      <td>0.968921</td>\n",
       "      <td>-0.003091</td>\n",
       "    </tr>\n",
       "    <tr>\n",
       "      <th>Departure.Delay.in.Minutes</th>\n",
       "      <td>0.968921</td>\n",
       "      <td>1.000000</td>\n",
       "      <td>0.002158</td>\n",
       "    </tr>\n",
       "    <tr>\n",
       "      <th>Flight.Distance</th>\n",
       "      <td>-0.003091</td>\n",
       "      <td>0.002158</td>\n",
       "      <td>1.000000</td>\n",
       "    </tr>\n",
       "  </tbody>\n",
       "</table>\n",
       "</div>"
      ],
      "text/plain": [
       "                            Arrival.Delay.in.Minutes  \\\n",
       "Arrival.Delay.in.Minutes                    1.000000   \n",
       "Departure.Delay.in.Minutes                  0.968921   \n",
       "Flight.Distance                            -0.003091   \n",
       "\n",
       "                            Departure.Delay.in.Minutes  Flight.Distance  \n",
       "Arrival.Delay.in.Minutes                      0.968921        -0.003091  \n",
       "Departure.Delay.in.Minutes                    1.000000         0.002158  \n",
       "Flight.Distance                               0.002158         1.000000  "
      ]
     },
     "execution_count": 8,
     "metadata": {},
     "output_type": "execute_result"
    }
   ],
   "source": [
    "data[['Arrival.Delay.in.Minutes', 'Departure.Delay.in.Minutes', 'Flight.Distance']].corr()\n",
    "\n",
    "#it seems Arrival.delays might be highly correlllated with departure delays , whic makes sense , we might want to put just one of the features in the data"
   ]
  },
  {
   "cell_type": "code",
   "execution_count": 9,
   "metadata": {},
   "outputs": [
    {
     "data": {
      "text/html": [
       "<div>\n",
       "<style scoped>\n",
       "    .dataframe tbody tr th:only-of-type {\n",
       "        vertical-align: middle;\n",
       "    }\n",
       "\n",
       "    .dataframe tbody tr th {\n",
       "        vertical-align: top;\n",
       "    }\n",
       "\n",
       "    .dataframe thead th {\n",
       "        text-align: right;\n",
       "    }\n",
       "</style>\n",
       "<table border=\"1\" class=\"dataframe\">\n",
       "  <thead>\n",
       "    <tr style=\"text-align: right;\">\n",
       "      <th></th>\n",
       "      <th>count</th>\n",
       "      <th>mean</th>\n",
       "      <th>std</th>\n",
       "      <th>min</th>\n",
       "      <th>25%</th>\n",
       "      <th>50%</th>\n",
       "      <th>75%</th>\n",
       "      <th>max</th>\n",
       "    </tr>\n",
       "    <tr>\n",
       "      <th>satisfaction</th>\n",
       "      <th></th>\n",
       "      <th></th>\n",
       "      <th></th>\n",
       "      <th></th>\n",
       "      <th></th>\n",
       "      <th></th>\n",
       "      <th></th>\n",
       "      <th></th>\n",
       "    </tr>\n",
       "  </thead>\n",
       "  <tbody>\n",
       "    <tr>\n",
       "      <th>neutral or dissatisfied</th>\n",
       "      <td>22639.0</td>\n",
       "      <td>17.350811</td>\n",
       "      <td>41.434443</td>\n",
       "      <td>0.0</td>\n",
       "      <td>0.0</td>\n",
       "      <td>0.0</td>\n",
       "      <td>17.0</td>\n",
       "      <td>952.0</td>\n",
       "    </tr>\n",
       "    <tr>\n",
       "      <th>satisfied</th>\n",
       "      <td>17238.0</td>\n",
       "      <td>12.596125</td>\n",
       "      <td>37.345922</td>\n",
       "      <td>0.0</td>\n",
       "      <td>0.0</td>\n",
       "      <td>0.0</td>\n",
       "      <td>8.0</td>\n",
       "      <td>1280.0</td>\n",
       "    </tr>\n",
       "  </tbody>\n",
       "</table>\n",
       "</div>"
      ],
      "text/plain": [
       "                           count       mean        std  min  25%  50%   75%  \\\n",
       "satisfaction                                                                  \n",
       "neutral or dissatisfied  22639.0  17.350811  41.434443  0.0  0.0  0.0  17.0   \n",
       "satisfied                17238.0  12.596125  37.345922  0.0  0.0  0.0   8.0   \n",
       "\n",
       "                            max  \n",
       "satisfaction                     \n",
       "neutral or dissatisfied   952.0  \n",
       "satisfied                1280.0  "
      ]
     },
     "execution_count": 9,
     "metadata": {},
     "output_type": "execute_result"
    }
   ],
   "source": [
    "#lets check for what the distribution of the arrival time is and compare with the distribution of the Departure\n",
    "data.groupby('satisfaction').describe()['Arrival.Delay.in.Minutes']"
   ]
  },
  {
   "cell_type": "code",
   "execution_count": 10,
   "metadata": {},
   "outputs": [
    {
     "data": {
      "text/html": [
       "<div>\n",
       "<style scoped>\n",
       "    .dataframe tbody tr th:only-of-type {\n",
       "        vertical-align: middle;\n",
       "    }\n",
       "\n",
       "    .dataframe tbody tr th {\n",
       "        vertical-align: top;\n",
       "    }\n",
       "\n",
       "    .dataframe thead th {\n",
       "        text-align: right;\n",
       "    }\n",
       "</style>\n",
       "<table border=\"1\" class=\"dataframe\">\n",
       "  <thead>\n",
       "    <tr style=\"text-align: right;\">\n",
       "      <th></th>\n",
       "      <th>count</th>\n",
       "      <th>mean</th>\n",
       "      <th>std</th>\n",
       "      <th>min</th>\n",
       "      <th>25%</th>\n",
       "      <th>50%</th>\n",
       "      <th>75%</th>\n",
       "      <th>max</th>\n",
       "    </tr>\n",
       "    <tr>\n",
       "      <th>satisfaction</th>\n",
       "      <th></th>\n",
       "      <th></th>\n",
       "      <th></th>\n",
       "      <th></th>\n",
       "      <th></th>\n",
       "      <th></th>\n",
       "      <th></th>\n",
       "      <th></th>\n",
       "    </tr>\n",
       "  </thead>\n",
       "  <tbody>\n",
       "    <tr>\n",
       "      <th>neutral or dissatisfied</th>\n",
       "      <td>22715.0</td>\n",
       "      <td>16.788422</td>\n",
       "      <td>41.330607</td>\n",
       "      <td>0.0</td>\n",
       "      <td>0.0</td>\n",
       "      <td>0.0</td>\n",
       "      <td>16.0</td>\n",
       "      <td>930.0</td>\n",
       "    </tr>\n",
       "    <tr>\n",
       "      <th>satisfied</th>\n",
       "      <td>17285.0</td>\n",
       "      <td>12.595777</td>\n",
       "      <td>36.871901</td>\n",
       "      <td>0.0</td>\n",
       "      <td>0.0</td>\n",
       "      <td>0.0</td>\n",
       "      <td>9.0</td>\n",
       "      <td>1305.0</td>\n",
       "    </tr>\n",
       "  </tbody>\n",
       "</table>\n",
       "</div>"
      ],
      "text/plain": [
       "                           count       mean        std  min  25%  50%   75%  \\\n",
       "satisfaction                                                                  \n",
       "neutral or dissatisfied  22715.0  16.788422  41.330607  0.0  0.0  0.0  16.0   \n",
       "satisfied                17285.0  12.595777  36.871901  0.0  0.0  0.0   9.0   \n",
       "\n",
       "                            max  \n",
       "satisfaction                     \n",
       "neutral or dissatisfied   930.0  \n",
       "satisfied                1305.0  "
      ]
     },
     "execution_count": 10,
     "metadata": {},
     "output_type": "execute_result"
    }
   ],
   "source": [
    "#lets check for what the distribution of the arrival time is and compare with the distribution of the Departure\n",
    "data.groupby('satisfaction').describe()['Departure.Delay.in.Minutes']\n",
    "\n",
    "#makes sense that they are truly close in distribution also"
   ]
  },
  {
   "cell_type": "code",
   "execution_count": 11,
   "metadata": {},
   "outputs": [],
   "source": [
    "#lets drop id cos we can see its a just a bunch of random numbers and Arrival delay, since its highly correlated with arrival departure and it contains missing data \n",
    "data = data.drop([\"id\", \"Arrival.Delay.in.Minutes\"], axis=1)"
   ]
  },
  {
   "cell_type": "code",
   "execution_count": 12,
   "metadata": {},
   "outputs": [
    {
     "name": "stderr",
     "output_type": "stream",
     "text": [
      "<ipython-input-12-877dff91f7c9>:3: RuntimeWarning: More than 20 figures have been opened. Figures created through the pyplot interface (`matplotlib.pyplot.figure`) are retained until explicitly closed and may consume too much memory. (To control this warning, see the rcParam `figure.max_open_warning`).\n",
      "  plt.figure(i)\n"
     ]
    },
    {
     "data": {
      "image/png": "[encoded data removed]",
      "text/plain": [
       "<Figure size 432x288 with 1 Axes>"
      ]
     },
     "metadata": {
      "needs_background": "light"
     },
     "output_type": "display_data"
    },
    {
     "data": {
      "image/png": "[encoded data removed]",
      "text/plain": [
       "<Figure size 432x288 with 1 Axes>"
      ]
     },
     "metadata": {
      "needs_background": "light"
     },
     "output_type": "display_data"
    },
    {
     "data": {
      "image/png": "[encoded data removed]",
      "text/plain": [
       "<Figure size 432x288 with 1 Axes>"
      ]
     },
     "metadata": {
      "needs_background": "light"
     },
     "output_type": "display_data"
    },
    {
     "data": {
      "image/png": "[encoded data removed]",
      "text/plain": [
       "<Figure size 432x288 with 1 Axes>"
      ]
     },
     "metadata": {
      "needs_background": "light"
     },
     "output_type": "display_data"
    },
    {
     "data": {
      "image/png": "[encoded data removed]",
      "text/plain": [
       "<Figure size 432x288 with 1 Axes>"
      ]
     },
     "metadata": {
      "needs_background": "light"
     },
     "output_type": "display_data"
    },
    {
     "data": {
      "image/png": "[encoded data removed]",
      "text/plain": [
       "<Figure size 432x288 with 1 Axes>"
      ]
     },
     "metadata": {
      "needs_background": "light"
     },
     "output_type": "display_data"
    },
    {
     "data": {
      "image/png": "[encoded data removed]",
      "text/plain": [
       "<Figure size 432x288 with 1 Axes>"
      ]
     },
     "metadata": {
      "needs_background": "light"
     },
     "output_type": "display_data"
    },
    {
     "data": {
      "image/png": "[encoded data removed]",
      "text/plain": [
       "<Figure size 432x288 with 1 Axes>"
      ]
     },
     "metadata": {
      "needs_background": "light"
     },
     "output_type": "display_data"
    },
    {
     "data": {
      "image/png": "[encoded data removed]",
      "text/plain": [
       "<Figure size 432x288 with 1 Axes>"
      ]
     },
     "metadata": {
      "needs_background": "light"
     },
     "output_type": "display_data"
    },
    {
     "data": {
      "image/png": "[encoded data removed]",
      "text/plain": [
       "<Figure size 432x288 with 1 Axes>"
      ]
     },
     "metadata": {
      "needs_background": "light"
     },
     "output_type": "display_data"
    },
    {
     "data": {
      "image/png": "[encoded data removed]",
      "text/plain": [
       "<Figure size 432x288 with 1 Axes>"
      ]
     },
     "metadata": {
      "needs_background": "light"
     },
     "output_type": "display_data"
    },
    {
     "data": {
      "image/png": "[encoded data removed]",
      "text/plain": [
       "<Figure size 432x288 with 1 Axes>"
      ]
     },
     "metadata": {
      "needs_background": "light"
     },
     "output_type": "display_data"
    },
    {
     "data": {
      "image/png": "[encoded data removed]",
      "text/plain": [
       "<Figure size 432x288 with 1 Axes>"
      ]
     },
     "metadata": {
      "needs_background": "light"
     },
     "output_type": "display_data"
    },
    {
     "data": {
      "image/png": "[encoded data removed]",
      "text/plain": [
       "<Figure size 432x288 with 1 Axes>"
      ]
     },
     "metadata": {
      "needs_background": "light"
     },
     "output_type": "display_data"
    },
    {
     "data": {
      "image/png": "[encoded data removed]",
      "text/plain": [
       "<Figure size 432x288 with 1 Axes>"
      ]
     },
     "metadata": {
      "needs_background": "light"
     },
     "output_type": "display_data"
    },
    {
     "data": {
      "image/png": "[encoded data removed]",
      "text/plain": [
       "<Figure size 432x288 with 1 Axes>"
      ]
     },
     "metadata": {
      "needs_background": "light"
     },
     "output_type": "display_data"
    },
    {
     "data": {
      "image/png": "[encoded data removed]",
      "text/plain": [
       "<Figure size 432x288 with 1 Axes>"
      ]
     },
     "metadata": {
      "needs_background": "light"
     },
     "output_type": "display_data"
    },
    {
     "data": {
      "image/png": "[encoded data removed]",
      "text/plain": [
       "<Figure size 432x288 with 1 Axes>"
      ]
     },
     "metadata": {
      "needs_background": "light"
     },
     "output_type": "display_data"
    },
    {
     "data": {
      "image/png": "[encoded data removed]",
      "text/plain": [
       "<Figure size 432x288 with 1 Axes>"
      ]
     },
     "metadata": {
      "needs_background": "light"
     },
     "output_type": "display_data"
    },
    {
     "data": {
      "image/png": "[encoded data removed]",
      "text/plain": [
       "<Figure size 432x288 with 1 Axes>"
      ]
     },
     "metadata": {
      "needs_background": "light"
     },
     "output_type": "display_data"
    },
    {
     "data": {
      "image/png": "[encoded data removed]",
      "text/plain": [
       "<Figure size 432x288 with 1 Axes>"
      ]
     },
     "metadata": {
      "needs_background": "light"
     },
     "output_type": "display_data"
    },
    {
     "data": {
      "image/png": "[encoded data removed]",
      "text/plain": [
       "<Figure size 432x288 with 1 Axes>"
      ]
     },
     "metadata": {
      "needs_background": "light"
     },
     "output_type": "display_data"
    }
   ],
   "source": [
    "#check the distribution of our data\n",
    "for i in data.columns:\n",
    "    plt.figure(i)\n",
    "    plt.hist(data[i])\n",
    "    plt.xlabel(i)\n"
   ]
  },
  {
   "cell_type": "code",
   "execution_count": 13,
   "metadata": {},
   "outputs": [
    {
     "data": {
      "text/html": [
       "<div>\n",
       "<style scoped>\n",
       "    .dataframe tbody tr th:only-of-type {\n",
       "        vertical-align: middle;\n",
       "    }\n",
       "\n",
       "    .dataframe tbody tr th {\n",
       "        vertical-align: top;\n",
       "    }\n",
       "\n",
       "    .dataframe thead th {\n",
       "        text-align: right;\n",
       "    }\n",
       "</style>\n",
       "<table border=\"1\" class=\"dataframe\">\n",
       "  <thead>\n",
       "    <tr style=\"text-align: right;\">\n",
       "      <th></th>\n",
       "      <th>Gender</th>\n",
       "      <th>Customer.Type</th>\n",
       "      <th>Age</th>\n",
       "      <th>Type.of.Travel</th>\n",
       "      <th>Class</th>\n",
       "      <th>Flight.Distance</th>\n",
       "      <th>Inflight.wifi.service</th>\n",
       "      <th>Departure.Arrival.time.convenient</th>\n",
       "      <th>Ease.of.Online.booking</th>\n",
       "      <th>Gate.location</th>\n",
       "      <th>...</th>\n",
       "      <th>Seat.comfort</th>\n",
       "      <th>Inflight.entertainment</th>\n",
       "      <th>On.board.service</th>\n",
       "      <th>Leg.room.service</th>\n",
       "      <th>Baggage.handling</th>\n",
       "      <th>Checkin.service</th>\n",
       "      <th>Inflight.service</th>\n",
       "      <th>Cleanliness</th>\n",
       "      <th>Departure.Delay.in.Minutes</th>\n",
       "      <th>satisfaction</th>\n",
       "    </tr>\n",
       "  </thead>\n",
       "  <tbody>\n",
       "    <tr>\n",
       "      <th>0</th>\n",
       "      <td>Female</td>\n",
       "      <td>Loyal Customer</td>\n",
       "      <td>56</td>\n",
       "      <td>Business travel</td>\n",
       "      <td>Business</td>\n",
       "      <td>632</td>\n",
       "      <td>2</td>\n",
       "      <td>2</td>\n",
       "      <td>2</td>\n",
       "      <td>2</td>\n",
       "      <td>...</td>\n",
       "      <td>4</td>\n",
       "      <td>4</td>\n",
       "      <td>4</td>\n",
       "      <td>5</td>\n",
       "      <td>4</td>\n",
       "      <td>5</td>\n",
       "      <td>4</td>\n",
       "      <td>3</td>\n",
       "      <td>0</td>\n",
       "      <td>satisfied</td>\n",
       "    </tr>\n",
       "    <tr>\n",
       "      <th>1</th>\n",
       "      <td>Male</td>\n",
       "      <td>Loyal Customer</td>\n",
       "      <td>49</td>\n",
       "      <td>Business travel</td>\n",
       "      <td>Eco</td>\n",
       "      <td>544</td>\n",
       "      <td>3</td>\n",
       "      <td>1</td>\n",
       "      <td>1</td>\n",
       "      <td>1</td>\n",
       "      <td>...</td>\n",
       "      <td>3</td>\n",
       "      <td>3</td>\n",
       "      <td>1</td>\n",
       "      <td>5</td>\n",
       "      <td>4</td>\n",
       "      <td>5</td>\n",
       "      <td>5</td>\n",
       "      <td>3</td>\n",
       "      <td>0</td>\n",
       "      <td>satisfied</td>\n",
       "    </tr>\n",
       "    <tr>\n",
       "      <th>2</th>\n",
       "      <td>Male</td>\n",
       "      <td>Loyal Customer</td>\n",
       "      <td>58</td>\n",
       "      <td>Personal Travel</td>\n",
       "      <td>Eco</td>\n",
       "      <td>617</td>\n",
       "      <td>3</td>\n",
       "      <td>0</td>\n",
       "      <td>3</td>\n",
       "      <td>3</td>\n",
       "      <td>...</td>\n",
       "      <td>2</td>\n",
       "      <td>2</td>\n",
       "      <td>4</td>\n",
       "      <td>3</td>\n",
       "      <td>5</td>\n",
       "      <td>4</td>\n",
       "      <td>4</td>\n",
       "      <td>2</td>\n",
       "      <td>0</td>\n",
       "      <td>neutral or dissatisfied</td>\n",
       "    </tr>\n",
       "    <tr>\n",
       "      <th>3</th>\n",
       "      <td>Male</td>\n",
       "      <td>Loyal Customer</td>\n",
       "      <td>53</td>\n",
       "      <td>Business travel</td>\n",
       "      <td>Business</td>\n",
       "      <td>2210</td>\n",
       "      <td>1</td>\n",
       "      <td>1</td>\n",
       "      <td>1</td>\n",
       "      <td>1</td>\n",
       "      <td>...</td>\n",
       "      <td>4</td>\n",
       "      <td>4</td>\n",
       "      <td>4</td>\n",
       "      <td>4</td>\n",
       "      <td>4</td>\n",
       "      <td>3</td>\n",
       "      <td>4</td>\n",
       "      <td>5</td>\n",
       "      <td>0</td>\n",
       "      <td>satisfied</td>\n",
       "    </tr>\n",
       "    <tr>\n",
       "      <th>4</th>\n",
       "      <td>Male</td>\n",
       "      <td>disloyal Customer</td>\n",
       "      <td>25</td>\n",
       "      <td>Business travel</td>\n",
       "      <td>Eco</td>\n",
       "      <td>604</td>\n",
       "      <td>3</td>\n",
       "      <td>4</td>\n",
       "      <td>2</td>\n",
       "      <td>2</td>\n",
       "      <td>...</td>\n",
       "      <td>1</td>\n",
       "      <td>1</td>\n",
       "      <td>4</td>\n",
       "      <td>1</td>\n",
       "      <td>1</td>\n",
       "      <td>5</td>\n",
       "      <td>4</td>\n",
       "      <td>1</td>\n",
       "      <td>97</td>\n",
       "      <td>neutral or dissatisfied</td>\n",
       "    </tr>\n",
       "  </tbody>\n",
       "</table>\n",
       "<p>5 rows × 22 columns</p>\n",
       "</div>"
      ],
      "text/plain": [
       "   Gender      Customer.Type  Age   Type.of.Travel     Class  Flight.Distance  \\\n",
       "0  Female     Loyal Customer   56  Business travel  Business              632   \n",
       "1    Male     Loyal Customer   49  Business travel       Eco              544   \n",
       "2    Male     Loyal Customer   58  Personal Travel       Eco              617   \n",
       "3    Male     Loyal Customer   53  Business travel  Business             2210   \n",
       "4    Male  disloyal Customer   25  Business travel       Eco              604   \n",
       "\n",
       "   Inflight.wifi.service  Departure.Arrival.time.convenient  \\\n",
       "0                      2                                  2   \n",
       "1                      3                                  1   \n",
       "2                      3                                  0   \n",
       "3                      1                                  1   \n",
       "4                      3                                  4   \n",
       "\n",
       "   Ease.of.Online.booking  Gate.location  ...  Seat.comfort  \\\n",
       "0                       2              2  ...             4   \n",
       "1                       1              1  ...             3   \n",
       "2                       3              3  ...             2   \n",
       "3                       1              1  ...             4   \n",
       "4                       2              2  ...             1   \n",
       "\n",
       "   Inflight.entertainment  On.board.service  Leg.room.service  \\\n",
       "0                       4                 4                 5   \n",
       "1                       3                 1                 5   \n",
       "2                       2                 4                 3   \n",
       "3                       4                 4                 4   \n",
       "4                       1                 4                 1   \n",
       "\n",
       "   Baggage.handling  Checkin.service  Inflight.service  Cleanliness  \\\n",
       "0                 4                5                 4            3   \n",
       "1                 4                5                 5            3   \n",
       "2                 5                4                 4            2   \n",
       "3                 4                3                 4            5   \n",
       "4                 1                5                 4            1   \n",
       "\n",
       "   Departure.Delay.in.Minutes             satisfaction  \n",
       "0                           0                satisfied  \n",
       "1                           0                satisfied  \n",
       "2                           0  neutral or dissatisfied  \n",
       "3                           0                satisfied  \n",
       "4                          97  neutral or dissatisfied  \n",
       "\n",
       "[5 rows x 22 columns]"
      ]
     },
     "execution_count": 13,
     "metadata": {},
     "output_type": "execute_result"
    }
   ],
   "source": [
    "#make a copy of the data \n",
    "df = data.copy()\n",
    "df.head()"
   ]
  },
  {
   "cell_type": "markdown",
   "metadata": {},
   "source": [
    "# Data Training"
   ]
  },
  {
   "cell_type": "code",
   "execution_count": 14,
   "metadata": {},
   "outputs": [],
   "source": [
    "# Encode the first column to be categorical\n",
    "df['satisfaction'] = LabelEncoder().fit_transform(df['satisfaction']) "
   ]
  },
  {
   "cell_type": "code",
   "execution_count": 15,
   "metadata": {},
   "outputs": [
    {
     "data": {
      "text/html": [
       "<div>\n",
       "<style scoped>\n",
       "    .dataframe tbody tr th:only-of-type {\n",
       "        vertical-align: middle;\n",
       "    }\n",
       "\n",
       "    .dataframe tbody tr th {\n",
       "        vertical-align: top;\n",
       "    }\n",
       "\n",
       "    .dataframe thead th {\n",
       "        text-align: right;\n",
       "    }\n",
       "</style>\n",
       "<table border=\"1\" class=\"dataframe\">\n",
       "  <thead>\n",
       "    <tr style=\"text-align: right;\">\n",
       "      <th></th>\n",
       "      <th>Gender</th>\n",
       "      <th>Customer.Type</th>\n",
       "      <th>Age</th>\n",
       "      <th>Type.of.Travel</th>\n",
       "      <th>Class</th>\n",
       "      <th>Flight.Distance</th>\n",
       "      <th>Inflight.wifi.service</th>\n",
       "      <th>Departure.Arrival.time.convenient</th>\n",
       "      <th>Ease.of.Online.booking</th>\n",
       "      <th>Gate.location</th>\n",
       "      <th>...</th>\n",
       "      <th>Online.boarding</th>\n",
       "      <th>Seat.comfort</th>\n",
       "      <th>Inflight.entertainment</th>\n",
       "      <th>On.board.service</th>\n",
       "      <th>Leg.room.service</th>\n",
       "      <th>Baggage.handling</th>\n",
       "      <th>Checkin.service</th>\n",
       "      <th>Inflight.service</th>\n",
       "      <th>Cleanliness</th>\n",
       "      <th>Departure.Delay.in.Minutes</th>\n",
       "    </tr>\n",
       "  </thead>\n",
       "  <tbody>\n",
       "    <tr>\n",
       "      <th>0</th>\n",
       "      <td>Female</td>\n",
       "      <td>Loyal Customer</td>\n",
       "      <td>56</td>\n",
       "      <td>Business travel</td>\n",
       "      <td>Business</td>\n",
       "      <td>632</td>\n",
       "      <td>2</td>\n",
       "      <td>2</td>\n",
       "      <td>2</td>\n",
       "      <td>2</td>\n",
       "      <td>...</td>\n",
       "      <td>4</td>\n",
       "      <td>4</td>\n",
       "      <td>4</td>\n",
       "      <td>4</td>\n",
       "      <td>5</td>\n",
       "      <td>4</td>\n",
       "      <td>5</td>\n",
       "      <td>4</td>\n",
       "      <td>3</td>\n",
       "      <td>0</td>\n",
       "    </tr>\n",
       "    <tr>\n",
       "      <th>1</th>\n",
       "      <td>Male</td>\n",
       "      <td>Loyal Customer</td>\n",
       "      <td>49</td>\n",
       "      <td>Business travel</td>\n",
       "      <td>Eco</td>\n",
       "      <td>544</td>\n",
       "      <td>3</td>\n",
       "      <td>1</td>\n",
       "      <td>1</td>\n",
       "      <td>1</td>\n",
       "      <td>...</td>\n",
       "      <td>3</td>\n",
       "      <td>3</td>\n",
       "      <td>3</td>\n",
       "      <td>1</td>\n",
       "      <td>5</td>\n",
       "      <td>4</td>\n",
       "      <td>5</td>\n",
       "      <td>5</td>\n",
       "      <td>3</td>\n",
       "      <td>0</td>\n",
       "    </tr>\n",
       "    <tr>\n",
       "      <th>2</th>\n",
       "      <td>Male</td>\n",
       "      <td>Loyal Customer</td>\n",
       "      <td>58</td>\n",
       "      <td>Personal Travel</td>\n",
       "      <td>Eco</td>\n",
       "      <td>617</td>\n",
       "      <td>3</td>\n",
       "      <td>0</td>\n",
       "      <td>3</td>\n",
       "      <td>3</td>\n",
       "      <td>...</td>\n",
       "      <td>3</td>\n",
       "      <td>2</td>\n",
       "      <td>2</td>\n",
       "      <td>4</td>\n",
       "      <td>3</td>\n",
       "      <td>5</td>\n",
       "      <td>4</td>\n",
       "      <td>4</td>\n",
       "      <td>2</td>\n",
       "      <td>0</td>\n",
       "    </tr>\n",
       "    <tr>\n",
       "      <th>3</th>\n",
       "      <td>Male</td>\n",
       "      <td>Loyal Customer</td>\n",
       "      <td>53</td>\n",
       "      <td>Business travel</td>\n",
       "      <td>Business</td>\n",
       "      <td>2210</td>\n",
       "      <td>1</td>\n",
       "      <td>1</td>\n",
       "      <td>1</td>\n",
       "      <td>1</td>\n",
       "      <td>...</td>\n",
       "      <td>5</td>\n",
       "      <td>4</td>\n",
       "      <td>4</td>\n",
       "      <td>4</td>\n",
       "      <td>4</td>\n",
       "      <td>4</td>\n",
       "      <td>3</td>\n",
       "      <td>4</td>\n",
       "      <td>5</td>\n",
       "      <td>0</td>\n",
       "    </tr>\n",
       "    <tr>\n",
       "      <th>4</th>\n",
       "      <td>Male</td>\n",
       "      <td>disloyal Customer</td>\n",
       "      <td>25</td>\n",
       "      <td>Business travel</td>\n",
       "      <td>Eco</td>\n",
       "      <td>604</td>\n",
       "      <td>3</td>\n",
       "      <td>4</td>\n",
       "      <td>2</td>\n",
       "      <td>2</td>\n",
       "      <td>...</td>\n",
       "      <td>2</td>\n",
       "      <td>1</td>\n",
       "      <td>1</td>\n",
       "      <td>4</td>\n",
       "      <td>1</td>\n",
       "      <td>1</td>\n",
       "      <td>5</td>\n",
       "      <td>4</td>\n",
       "      <td>1</td>\n",
       "      <td>97</td>\n",
       "    </tr>\n",
       "  </tbody>\n",
       "</table>\n",
       "<p>5 rows × 21 columns</p>\n",
       "</div>"
      ],
      "text/plain": [
       "   Gender      Customer.Type  Age   Type.of.Travel     Class  Flight.Distance  \\\n",
       "0  Female     Loyal Customer   56  Business travel  Business              632   \n",
       "1    Male     Loyal Customer   49  Business travel       Eco              544   \n",
       "2    Male     Loyal Customer   58  Personal Travel       Eco              617   \n",
       "3    Male     Loyal Customer   53  Business travel  Business             2210   \n",
       "4    Male  disloyal Customer   25  Business travel       Eco              604   \n",
       "\n",
       "   Inflight.wifi.service  Departure.Arrival.time.convenient  \\\n",
       "0                      2                                  2   \n",
       "1                      3                                  1   \n",
       "2                      3                                  0   \n",
       "3                      1                                  1   \n",
       "4                      3                                  4   \n",
       "\n",
       "   Ease.of.Online.booking  Gate.location  ...  Online.boarding  Seat.comfort  \\\n",
       "0                       2              2  ...                4             4   \n",
       "1                       1              1  ...                3             3   \n",
       "2                       3              3  ...                3             2   \n",
       "3                       1              1  ...                5             4   \n",
       "4                       2              2  ...                2             1   \n",
       "\n",
       "   Inflight.entertainment  On.board.service  Leg.room.service  \\\n",
       "0                       4                 4                 5   \n",
       "1                       3                 1                 5   \n",
       "2                       2                 4                 3   \n",
       "3                       4                 4                 4   \n",
       "4                       1                 4                 1   \n",
       "\n",
       "   Baggage.handling  Checkin.service  Inflight.service  Cleanliness  \\\n",
       "0                 4                5                 4            3   \n",
       "1                 4                5                 5            3   \n",
       "2                 5                4                 4            2   \n",
       "3                 4                3                 4            5   \n",
       "4                 1                5                 4            1   \n",
       "\n",
       "   Departure.Delay.in.Minutes  \n",
       "0                           0  \n",
       "1                           0  \n",
       "2                           0  \n",
       "3                           0  \n",
       "4                          97  \n",
       "\n",
       "[5 rows x 21 columns]"
      ]
     },
     "execution_count": 15,
     "metadata": {},
     "output_type": "execute_result"
    }
   ],
   "source": [
    "X = df.drop([\"satisfaction\"], axis=1)\n",
    "y = df['satisfaction']\n",
    "X.head()"
   ]
  },
  {
   "cell_type": "code",
   "execution_count": 16,
   "metadata": {},
   "outputs": [
    {
     "name": "stdout",
     "output_type": "stream",
     "text": [
      "Number of numerical features are:  17 and the number of categorical features are: 4\n"
     ]
    }
   ],
   "source": [
    "#lets look for the number of numberical and caterogical features in data\n",
    "\n",
    "# Numerical features in data\n",
    "Num_features = []\n",
    "for column in X.columns:\n",
    "    if (df[column].dtype=='float64' or df[column].dtype=='int64'):\n",
    "        Num_features.append(column)\n",
    "    \n",
    "# Categorical features in data\n",
    "Cat_features = []\n",
    "for column in X.columns:\n",
    "    if (df[column].dtype=='object'):\n",
    "        Cat_features.append(column)\n",
    "\n",
    "print(\"Number of numerical features are: \",len(Num_features),'and the number of categorical features are:',len(Cat_features\n",
    "                                                                                                                    ))"
   ]
  },
  {
   "cell_type": "code",
   "execution_count": 17,
   "metadata": {},
   "outputs": [
    {
     "data": {
      "text/plain": [
       "(40000, 17)"
      ]
     },
     "execution_count": 17,
     "metadata": {},
     "output_type": "execute_result"
    }
   ],
   "source": [
    "X_num = X[Num_features]\n",
    "X_num.shape"
   ]
  },
  {
   "cell_type": "code",
   "execution_count": 115,
   "metadata": {},
   "outputs": [
    {
     "data": {
      "text/plain": [
       "(63717, 5)"
      ]
     },
     "execution_count": 115,
     "metadata": {},
     "output_type": "execute_result"
    }
   ],
   "source": [
    "X[Cat_features]\n",
    "\n",
    "X_cat = pd.get_dummies(X[Cat_features], drop_first= True)\n",
    "X_cat.shape"
   ]
  },
  {
   "cell_type": "markdown",
   "metadata": {},
   "source": [
    "# The Naive Bayes Model"
   ]
  },
  {
   "cell_type": "code",
   "execution_count": 19,
   "metadata": {},
   "outputs": [
    {
     "name": "stderr",
     "output_type": "stream",
     "text": [
      "<ipython-input-19-faa73d348ec7>:2: SettingWithCopyWarning: \n",
      "A value is trying to be set on a copy of a slice from a DataFrame.\n",
      "Try using .loc[row_indexer,col_indexer] = value instead\n",
      "\n",
      "See the caveats in the documentation: https://pandas.pydata.org/pandas-docs/stable/user_guide/indexing.html#returning-a-view-versus-a-copy\n",
      "  X_num['Departure.Delay.in.Minutes'] = np.log(1 + X_num['Departure.Delay.in.Minutes'])\n"
     ]
    }
   ],
   "source": [
    "# Transform the Departure.Delay.in.Minutes features to more normally distributed\n",
    "X_num['Departure.Delay.in.Minutes'] = np.log(1 + X_num['Departure.Delay.in.Minutes'])"
   ]
  },
  {
   "cell_type": "code",
   "execution_count": 20,
   "metadata": {},
   "outputs": [
    {
     "name": "stdout",
     "output_type": "stream",
     "text": [
      "[2 2 2 2 2]\n",
      "[2 2 2 2 2]\n",
      "[0 0 0 ... 0 0 1]\n",
      "0.8525\n"
     ]
    }
   ],
   "source": [
    "# First combine the numerical and categorical features\n",
    "fullX = pd.concat([X_num,X_cat], axis = 1)\n",
    "\n",
    "# Mixed Naive Bayes\n",
    "X_train, X_test, y_train, y_test = train_test_split(fullX, y, test_size = 0.2, random_state = 862)\n",
    "\n",
    "# Mixed Naive Bayes\n",
    "X_train_train, X_val, y_train_train, y_val = train_test_split(X_train, y_train, test_size = 0.2, random_state = 862)\n",
    "\n",
    "MNB = MixedNB(categorical_features = range(X_num.shape[1], fullX.shape[1]))\n",
    "\n",
    "#test set\n",
    "MNB.fit(X_train_train, y_train_train)\n",
    "\n",
    "#validation set \n",
    "np.mean(MNB.predict(X_val) == y_val)\n",
    "\n",
    "# now test train and test on the full dataset\n",
    "MNB.fit(X_train, y_train)\n",
    "\n",
    "print(MNB.predict(X_test))\n",
    "print(np.mean(MNB.predict(X_test) == y_test))"
   ]
  },
  {
   "cell_type": "markdown",
   "metadata": {},
   "source": [
    "#Naive Bayes wont be a good predictive model for this data set"
   ]
  },
  {
   "cell_type": "markdown",
   "metadata": {},
   "source": [
    "# SVM Training"
   ]
  },
  {
   "cell_type": "code",
   "execution_count": 21,
   "metadata": {},
   "outputs": [
    {
     "data": {
      "text/plain": [
       "(40000, 22)"
      ]
     },
     "execution_count": 21,
     "metadata": {},
     "output_type": "execute_result"
    }
   ],
   "source": [
    "# First combine the numerical and categorical features\n",
    "fullX.shape"
   ]
  },
  {
   "cell_type": "code",
   "execution_count": 22,
   "metadata": {},
   "outputs": [],
   "source": [
    "# Split our dataset\n",
    "\n",
    "X_train, X_test, y_train, y_test = train_test_split(fullX, y, test_size = 0.2, random_state = 862)"
   ]
  },
  {
   "cell_type": "code",
   "execution_count": 23,
   "metadata": {},
   "outputs": [
    {
     "name": "stderr",
     "output_type": "stream",
     "text": [
      "C:\\Users\\bomia\\anaconda\\lib\\site-packages\\sklearn\\svm\\_base.py:976: ConvergenceWarning: Liblinear failed to converge, increase the number of iterations.\n",
      "  warnings.warn(\"Liblinear failed to converge, increase \"\n"
     ]
    },
    {
     "data": {
      "text/plain": [
       "0.880125"
      ]
     },
     "execution_count": 23,
     "metadata": {},
     "output_type": "execute_result"
    }
   ],
   "source": [
    "from sklearn.svm import LinearSVC\n",
    "\n",
    "\n",
    "# Classifier\n",
    "svm_clf = Pipeline([('scalar', StandardScaler()),\n",
    "                    ('linear_svc', LinearSVC(loss = \"hinge\", random_state = 862))\n",
    "                    ])\n",
    "\n",
    "parameters = {'linear_svc__C':[0.1, 0.2, 0.3, 0.4, 0.5,1,10]}\n",
    "svm_linear = GridSearchCV(svm_clf, parameters, cv=5, n_jobs = -1)\n",
    "svm_linear.fit(X_train, y_train) \n",
    "\n",
    "# Evaluation on test set\n",
    "np.mean(svm_linear.predict(X_test) == y_test)"
   ]
  },
  {
   "cell_type": "code",
   "execution_count": 24,
   "metadata": {},
   "outputs": [
    {
     "data": {
      "text/plain": [
       "{'linear_svc__C': 0.5}"
      ]
     },
     "execution_count": 24,
     "metadata": {},
     "output_type": "execute_result"
    }
   ],
   "source": [
    "svm_linear.best_params_"
   ]
  },
  {
   "cell_type": "code",
   "execution_count": 73,
   "metadata": {},
   "outputs": [
    {
     "data": {
      "text/plain": [
       "GridSearchCV(cv=5,\n",
       "             estimator=Pipeline(steps=[('scaler', StandardScaler()),\n",
       "                                       ('svm_clf',\n",
       "                                        SVC(kernel='linear',\n",
       "                                            random_state=862))]),\n",
       "             n_jobs=-1, param_grid={'svm_clf__C': [0.01, 1, 10]})"
      ]
     },
     "execution_count": 73,
     "metadata": {},
     "output_type": "execute_result"
    }
   ],
   "source": [
    "#using the different kernels to choose the best SVM for tunning the data\n",
    "#1st we used the linear kernel\n",
    "\n",
    "from sklearn.svm import SVC\n",
    "\n",
    "linear_svm_clf = Pipeline([('scaler', StandardScaler()),\n",
    "                            ('svm_clf', SVC(kernel=\"linear\", random_state = 862))\n",
    "                               ])\n",
    "parameters = {'svm_clf__C' : [ 0.01,1,10]}\n",
    "linear_clf = GridSearchCV(linear_svm_clf, parameters, cv= 5, n_jobs=-1)\n",
    "linear_clf.fit(X_train, y_train)"
   ]
  },
  {
   "cell_type": "code",
   "execution_count": null,
   "metadata": {},
   "outputs": [],
   "source": [
    "linear_clf.best_params_"
   ]
  },
  {
   "cell_type": "code",
   "execution_count": null,
   "metadata": {},
   "outputs": [],
   "source": [
    "# Polynomial kernel\n",
    "poly_svm_clf = Pipeline([\n",
    "    ('scaler', StandardScaler()),\n",
    "    ('svm_clf', SVC(kernel=\"poly\", random_state = 862))\n",
    "])\n",
    "parameters = {'svm_clf__C' : [ 0.1, 1,10],\n",
    "             'svm_clf__degree': [1,2, 3],\n",
    "             'svm_clf__coef0': [0,1]}\n",
    "poly_clf = GridSearchCV(poly_svm_clf, parameters, cv=10, n_jobs=-1)\n",
    "poly_clf.fit(X_train, y_train)"
   ]
  },
  {
   "cell_type": "code",
   "execution_count": 114,
   "metadata": {},
   "outputs": [
    {
     "data": {
      "text/plain": [
       "GridSearchCV(cv=5,\n",
       "             estimator=Pipeline(steps=[('scaler', StandardScaler()),\n",
       "                                       ('svm_clf', SVC(random_state=862))]),\n",
       "             n_jobs=-1,\n",
       "             param_grid={'svm_clf__C': [0.01, 0.1, 1, 2],\n",
       "                         'svm_clf__gamma': [0.1, 1]})"
      ]
     },
     "execution_count": 114,
     "metadata": {},
     "output_type": "execute_result"
    }
   ],
   "source": [
    "# We will use the RBF kernel for this classification\n",
    "\n",
    "rbf_clf = Pipeline([\n",
    "    ('scaler', StandardScaler()),\n",
    "    ('svm_clf', SVC(kernel=\"rbf\", random_state = 862))\n",
    "])\n",
    "parameters = {'svm_clf__C': [0.01, 0.1,1, 2],\n",
    "             'svm_clf__gamma': [0.1,1]}\n",
    "rbf_clf = GridSearchCV(rbf_clf, parameters, cv = 5, n_jobs = -1)\n",
    "rbf_clf.fit(X_train, y_train)"
   ]
  },
  {
   "cell_type": "code",
   "execution_count": null,
   "metadata": {},
   "outputs": [],
   "source": [
    "print(svm_linear.best_params_)\n",
    "print(linear_clf.best_params_)\n",
    "print(poly_clf.best_params_)\n",
    "print(rbf_clf.best_params_)\n",
    "#not a linear kernel is not tuning great, so the poly kernel or rbf might be better predictors"
   ]
  },
  {
   "cell_type": "code",
   "execution_count": null,
   "metadata": {},
   "outputs": [],
   "source": [
    "print(np.mean(linear_clf.predict(X_test) == y_test))"
   ]
  },
  {
   "cell_type": "code",
   "execution_count": null,
   "metadata": {},
   "outputs": [],
   "source": [
    "# Let's just compare the prediction accuracy of the three models\n",
    "print(np.mean(svm_linear.predict(X_test) == y_test))\n",
    "print(np.mean(linear_clf.predict(X_test) == y_test))\n",
    "print(np.mean(poly_clf.predict(X_test) == y_test))\n",
    "print(np.mean(rbf_clf.predict(X_test) == y_test))"
   ]
  },
  {
   "cell_type": "markdown",
   "metadata": {},
   "source": [
    "### Test for Svm_linear : 0.878875\n",
    "\n",
    "### Testing for linear_kernel  : 0.878625\n",
    "\n",
    "### Testing for poly_kernel : :0.95\n",
    "\n",
    "### Testing for rbf_kernel : 0.951625\n",
    "    \n",
    "## we can see the rbf gives a much better prediction"
   ]
  },
  {
   "cell_type": "code",
   "execution_count": null,
   "metadata": {},
   "outputs": [],
   "source": [
    "#Just to check our results for overfiiting we would check the results on the training sets\n",
    "\n",
    "# Let's just compare the prediction accuracy of the three models\n",
    "print(np.mean(svm_linear.predict(X_train) == y_train))\n",
    "print(np.mean(linear_clf.predict(X_train) == y_train))\n",
    "print(np.mean(poly_clf.predict(X_train) == y_train))\n",
    "print(np.mean(rbf_clf.predict(X_train) == y_train))"
   ]
  },
  {
   "cell_type": "markdown",
   "metadata": {},
   "source": [
    "# Neural Network"
   ]
  },
  {
   "cell_type": "code",
   "execution_count": 27,
   "metadata": {},
   "outputs": [],
   "source": [
    "X_trained, X_valid, y_trained, y_valid = train_test_split(X_train, y_train,\n",
    "                                                      test_size = 0.15, random_state = 908)"
   ]
  },
  {
   "cell_type": "code",
   "execution_count": 28,
   "metadata": {},
   "outputs": [],
   "source": [
    "# Scale data\n",
    "from sklearn.preprocessing import StandardScaler\n",
    "scale = StandardScaler()\n",
    "X_train_s = scale.fit_transform(X_trained)\n",
    "X_valid_s = scale.transform(X_valid)\n"
   ]
  },
  {
   "cell_type": "code",
   "execution_count": 29,
   "metadata": {
    "scrolled": true
   },
   "outputs": [
    {
     "name": "stdout",
     "output_type": "stream",
     "text": [
      "Epoch 1/100\n",
      "850/850 [==============================] - 2s 2ms/step - loss: 0.2290 - accuracy: 0.9079 - val_loss: 0.1792 - val_accuracy: 0.9277\n",
      "Epoch 2/100\n",
      "850/850 [==============================] - 1s 2ms/step - loss: 0.1623 - accuracy: 0.9343 - val_loss: 0.1576 - val_accuracy: 0.9344\n",
      "Epoch 3/100\n",
      "850/850 [==============================] - 2s 2ms/step - loss: 0.1404 - accuracy: 0.9419 - val_loss: 0.1489 - val_accuracy: 0.9390\n",
      "Epoch 4/100\n",
      "850/850 [==============================] - 2s 2ms/step - loss: 0.1265 - accuracy: 0.9482 - val_loss: 0.1376 - val_accuracy: 0.9433\n",
      "Epoch 5/100\n",
      "850/850 [==============================] - 1s 1ms/step - loss: 0.1182 - accuracy: 0.9507 - val_loss: 0.1316 - val_accuracy: 0.9475\n",
      "Epoch 6/100\n",
      "850/850 [==============================] - 2s 2ms/step - loss: 0.1082 - accuracy: 0.9549 - val_loss: 0.1302 - val_accuracy: 0.9479\n",
      "Epoch 7/100\n",
      "850/850 [==============================] - 1s 1ms/step - loss: 0.1039 - accuracy: 0.9550 - val_loss: 0.1250 - val_accuracy: 0.9496\n",
      "Epoch 8/100\n",
      "850/850 [==============================] - 3s 4ms/step - loss: 0.0980 - accuracy: 0.9584 - val_loss: 0.1188 - val_accuracy: 0.9525\n",
      "Epoch 9/100\n",
      "850/850 [==============================] - 2s 2ms/step - loss: 0.0929 - accuracy: 0.9610 - val_loss: 0.1155 - val_accuracy: 0.9525\n",
      "Epoch 10/100\n",
      "850/850 [==============================] - 1s 2ms/step - loss: 0.0912 - accuracy: 0.9606 - val_loss: 0.1212 - val_accuracy: 0.9452\n",
      "Epoch 11/100\n",
      "850/850 [==============================] - 1s 1ms/step - loss: 0.0870 - accuracy: 0.9627 - val_loss: 0.1286 - val_accuracy: 0.9477\n",
      "Epoch 12/100\n",
      "850/850 [==============================] - 1s 2ms/step - loss: 0.0860 - accuracy: 0.9622 - val_loss: 0.1222 - val_accuracy: 0.9488\n"
     ]
    },
    {
     "data": {
      "text/plain": [
       "GridSearchCV(cv=2,\n",
       "             estimator=<keras.wrappers.scikit_learn.KerasClassifier object at 0x0000019AE66ACD30>,\n",
       "             n_jobs=-1,\n",
       "             param_grid={'learning_rate': [0.1, 0.01, 0.001],\n",
       "                         'n_hidden': [1, 2, 3],\n",
       "                         'n_neurons': [10, 20, 30, 100]})"
      ]
     },
     "execution_count": 29,
     "metadata": {},
     "output_type": "execute_result"
    }
   ],
   "source": [
    "\n",
    "def build_model(n_hidden = 1, n_neurons = 30, learning_rate = 0.001, input_dim = 22):\n",
    "    model = Sequential() # Instantiate the model\n",
    "    options = {\"input_dim\": input_dim} # Set options \n",
    "    for layer in range(n_hidden):\n",
    "        model.add(Dense(n_neurons, activation = 'relu', **options)) # Here we are using the input options from before\n",
    "        options = {} # Now we erase the input options so it won't be included in future layers\n",
    "    model.add(Dense(1, activation = 'sigmoid'))\n",
    "    optimizer = tf.keras.optimizers.SGD(learning_rate)\n",
    "    model.compile(loss = 'binary_crossentropy', metrics = 'accuracy', optimizer = optimizer)\n",
    "    return model\n",
    "\n",
    "keras_cls = tf.keras.wrappers.scikit_learn.KerasClassifier(build_model) \n",
    "from sklearn.model_selection import GridSearchCV\n",
    "\n",
    "param = {'n_hidden': [1,2,3],\n",
    "        'n_neurons':[10,20,30,100], #defining range of neurons\n",
    "        'learning_rate':[0.1, 0.01, 0.001]}  #range of learning rates\n",
    "\n",
    "grd_cv = GridSearchCV(keras_cls, param, cv = 2, n_jobs = -1)\n",
    "\n",
    "\n",
    "\n",
    "grd_cv.fit(X_train_s, y_trained, epochs = 100,\n",
    "          validation_data = (X_valid_s, y_valid),\n",
    "          callbacks = tf.keras.callbacks.EarlyStopping(patience=3))"
   ]
  },
  {
   "cell_type": "code",
   "execution_count": 30,
   "metadata": {},
   "outputs": [],
   "source": [
    "keras_cls = tf.keras.wrappers.scikit_learn.KerasClassifier(build_model) \n"
   ]
  },
  {
   "cell_type": "markdown",
   "metadata": {},
   "source": [
    "The Validation error seems to be reducing and stops at 0.122\n",
    "\n",
    "But the Epoch stops at 12 iterartions , so mabe we shoudl go all the way to 100, but just incase\n"
   ]
  },
  {
   "cell_type": "code",
   "execution_count": 31,
   "metadata": {},
   "outputs": [
    {
     "data": {
      "text/plain": [
       "{'learning_rate': 0.1, 'n_hidden': 3, 'n_neurons': 100}"
      ]
     },
     "execution_count": 31,
     "metadata": {},
     "output_type": "execute_result"
    }
   ],
   "source": [
    "grd_cv.best_params_"
   ]
  },
  {
   "cell_type": "code",
   "execution_count": 32,
   "metadata": {},
   "outputs": [
    {
     "name": "stdout",
     "output_type": "stream",
     "text": [
      "Accuracy for Neural Network is: 0.94875\n"
     ]
    }
   ],
   "source": [
    "accuracy_nn_val=np.mean(grd_cv.predict(X_valid_s ).reshape(1,X_valid_s.shape[0]) == np.array(y_valid))\n",
    "print(\"Accuracy for Neural Network is:\", accuracy_nn_val)"
   ]
  },
  {
   "cell_type": "markdown",
   "metadata": {},
   "source": [
    "# The Emsemble Model"
   ]
  },
  {
   "cell_type": "code",
   "execution_count": 33,
   "metadata": {},
   "outputs": [],
   "source": [
    "from sklearn.linear_model import LogisticRegression\n",
    "from sklearn.tree import DecisionTreeClassifier\n",
    "from sklearn.neighbors import KNeighborsClassifier\n",
    "from sklearn.svm import SVC\n",
    "from sklearn.ensemble import VotingClassifier\n",
    "from sklearn.preprocessing import StandardScaler"
   ]
  },
  {
   "cell_type": "code",
   "execution_count": 35,
   "metadata": {},
   "outputs": [
    {
     "data": {
      "text/plain": [
       "GridSearchCV(cv=10,\n",
       "             estimator=Pipeline(steps=[('scale', StandardScaler()),\n",
       "                                       ('clf',\n",
       "                                        LogisticRegression(penalty='l1',\n",
       "                                                           random_state=1,\n",
       "                                                           solver='liblinear'))]),\n",
       "             n_jobs=-1,\n",
       "             param_grid={'clf__C': array([ 0.01      ,  0.0143845 ,  0.02069138,  0.02976351,  0.04281332,\n",
       "        0.06158482,  0.08858668,  0.1274275 ,  0.18329807,  0.26366509,\n",
       "        0.37926902,  0.54555948,  0.78475997,  1.12883789,  1.62377674,\n",
       "        2.33572147,  3.35981829,  4.83293024,  6.95192796, 10.        ]),\n",
       "                         'clf__penalty': ['l1', 'l2']},\n",
       "             scoring='accuracy')"
      ]
     },
     "execution_count": 35,
     "metadata": {},
     "output_type": "execute_result"
    }
   ],
   "source": [
    "estimator = Pipeline( [('scale', StandardScaler()),\n",
    "                      ('clf', LogisticRegression(penalty = 'l1', solver = 'liblinear', random_state = 1))] )\n",
    "logit_grid = {'clf__C': np.logspace(-2, 1, 20),\n",
    "             'clf__penalty': ['l1', 'l2']}\n",
    "\n",
    "lr = GridSearchCV(estimator, logit_grid, cv = 10, scoring = 'accuracy', n_jobs = -1)\n",
    "lr.fit(X_train, y_train)"
   ]
  },
  {
   "cell_type": "code",
   "execution_count": 43,
   "metadata": {},
   "outputs": [
    {
     "data": {
      "text/plain": [
       "{'clf__C': 0.18329807108324356, 'clf__penalty': 'l2'}"
      ]
     },
     "execution_count": 43,
     "metadata": {},
     "output_type": "execute_result"
    }
   ],
   "source": [
    "#lest obtain the best params for this losgistic  regression model to late use as a base for the Ada bost method\n",
    "lr.best_params_\n"
   ]
  },
  {
   "cell_type": "code",
   "execution_count": 36,
   "metadata": {},
   "outputs": [
    {
     "data": {
      "text/plain": [
       "0.878625"
      ]
     },
     "execution_count": 36,
     "metadata": {},
     "output_type": "execute_result"
    }
   ],
   "source": [
    "# Prediction on test set\n",
    "np.mean(lr.predict(X_test) == y_test)"
   ]
  },
  {
   "cell_type": "code",
   "execution_count": 51,
   "metadata": {},
   "outputs": [
    {
     "data": {
      "text/plain": [
       "GridSearchCV(cv=5, estimator=DecisionTreeClassifier(random_state=1), n_jobs=-1,\n",
       "             param_grid={'max_depth': array([10, 11, 12, 13, 14, 15, 16, 17, 18, 19, 20, 21, 22, 23, 24, 25, 26,\n",
       "       27, 28, 29, 30]),\n",
       "                         'max_leaf_nodes': array([20, 21, 22, 23, 24, 25, 26, 27, 28, 29, 30, 31, 32, 33, 34, 35, 36,\n",
       "       37, 38, 39, 40, 41, 42, 43, 44, 45, 46, 47, 48, 49, 50])},\n",
       "             scoring='accuracy')"
      ]
     },
     "execution_count": 51,
     "metadata": {},
     "output_type": "execute_result"
    }
   ],
   "source": [
    "# Tune your tree with max_depth and max_leaf_nodes\n",
    "grid = {'max_depth': np.arange(10, 31),\n",
    "       'max_leaf_nodes': np.arange(20, 51)}\n",
    "\n",
    "DT= GridSearchCV(DecisionTreeClassifier(random_state = 1),grid, \n",
    "                   cv = 5, scoring = 'accuracy', n_jobs = -1)\n",
    "DT.fit(X_trainS, y_train)"
   ]
  },
  {
   "cell_type": "code",
   "execution_count": 52,
   "metadata": {},
   "outputs": [
    {
     "data": {
      "text/plain": [
       "0.93675"
      ]
     },
     "execution_count": 52,
     "metadata": {},
     "output_type": "execute_result"
    }
   ],
   "source": [
    "# Prediction on test set\n",
    "np.mean(DT.predict(X_testS) == y_test)"
   ]
  },
  {
   "cell_type": "code",
   "execution_count": 65,
   "metadata": {},
   "outputs": [
    {
     "data": {
      "text/plain": [
       "GridSearchCV(cv=2,\n",
       "             estimator=Pipeline(steps=[('scale', StandardScaler()),\n",
       "                                       ('clf',\n",
       "                                        KNeighborsClassifier(n_neighbors=99))]),\n",
       "             n_jobs=-1, param_grid={'clf__n_neighbors': range(1, 100)},\n",
       "             scoring='accuracy')"
      ]
     },
     "execution_count": 65,
     "metadata": {},
     "output_type": "execute_result"
    }
   ],
   "source": [
    "# Tuned for k to 100 but realised k = 5 was the best k value\n",
    "estimator = Pipeline( [('scale', StandardScaler()),\n",
    "                      ('clf', KNeighborsClassifier(n_neighbors = k, weights= 'uniform'))] )\n",
    "logit_grid = {'clf__n_neighbors': range(1,10)}\n",
    "\n",
    "knn = GridSearchCV(estimator, logit_grid, cv = 5, scoring = 'accuracy', n_jobs = -1)\n",
    "knn.fit(X_train, y_train)\n"
   ]
  },
  {
   "cell_type": "code",
   "execution_count": 70,
   "metadata": {},
   "outputs": [
    {
     "data": {
      "text/plain": [
       "{'clf__n_neighbors': 5}"
      ]
     },
     "execution_count": 70,
     "metadata": {},
     "output_type": "execute_result"
    }
   ],
   "source": [
    "#it shows the best k for our knn is \n",
    "\n",
    "knn.best_params_"
   ]
  },
  {
   "cell_type": "code",
   "execution_count": 46,
   "metadata": {},
   "outputs": [
    {
     "data": {
      "text/plain": [
       "VotingClassifier(estimators=[('lr',\n",
       "                              GridSearchCV(cv=10,\n",
       "                                           estimator=Pipeline(steps=[('scale',\n",
       "                                                                      StandardScaler()),\n",
       "                                                                     ('clf',\n",
       "                                                                      LogisticRegression(penalty='l1',\n",
       "                                                                                         random_state=1,\n",
       "                                                                                         solver='liblinear'))]),\n",
       "                                           n_jobs=-1,\n",
       "                                           param_grid={'clf__C': array([ 0.01      ,  0.0143845 ,  0.02069138,  0.02976351,  0.04281332,\n",
       "        0.06158482,  0.08858668,  0.1274275 ,  0.18329807,  0.26366509,\n",
       "        0.37926902,  0.54555948,  0.78...97,  1.12883789,  1.62377674,\n",
       "        2.33572147,  3.35981829,  4.83293024,  6.95192796, 10.        ]),\n",
       "                                                       'clf__penalty': ['l1',\n",
       "                                                                        'l2']},\n",
       "                                           scoring='accuracy')),\n",
       "                             ('DT',\n",
       "                              GridSearchCV(cv=5,\n",
       "                                           estimator=DecisionTreeClassifier(random_state=1),\n",
       "                                           n_jobs=-1,\n",
       "                                           param_grid={'max_depth': range(1, 51)},\n",
       "                                           scoring='accuracy')),\n",
       "                             ('knn', KNeighborsClassifier()),\n",
       "                             ('svm', SVC(probability=True))],\n",
       "                 n_jobs=2, voting='soft')"
      ]
     },
     "execution_count": 46,
     "metadata": {},
     "output_type": "execute_result"
    }
   ],
   "source": [
    "# Define the individual models\n",
    "knn = KNeighborsClassifier(n_neighbors = 5, weights= 'uniform')\n",
    "\n",
    "\n",
    "#we know thw rdf works better from tunning  earlei\n",
    "svm = SVC(kernel = 'rbf', probability = True)\n",
    "\n",
    "# Instantiate the classifier\n",
    "vc = VotingClassifier(estimators = [('lr', lr),  ('DT', DT), \n",
    "                                   ('knn', knn), ('svm', svm)], n_jobs = 2, voting = 'soft')\n",
    "\n",
    "# Scale the data\n",
    "scaler = StandardScaler()\n",
    "X_trainS = scaler.fit_transform(X_train)\n",
    "X_testS = scaler.transform(X_test)\n",
    "\n",
    "# Fit the model\n",
    "vc.fit(X_trainS, y_train)"
   ]
  },
  {
   "cell_type": "code",
   "execution_count": 47,
   "metadata": {},
   "outputs": [
    {
     "data": {
      "text/plain": [
       "0.94775"
      ]
     },
     "execution_count": 47,
     "metadata": {},
     "output_type": "execute_result"
    }
   ],
   "source": [
    "# Prediction on test set\n",
    "np.mean(vc.predict(X_testS) == y_test)"
   ]
  },
  {
   "cell_type": "markdown",
   "metadata": {},
   "source": [
    "Testing Accuracy for Logistics Regression : 0.878625\n",
    "\n",
    "Testing Accuracy for Decision Tress : 0.93675\n",
    "\n",
    "Testing Accuracy for  Soft Vocting : 0.94775\n",
    "\n"
   ]
  },
  {
   "cell_type": "markdown",
   "metadata": {},
   "source": [
    "# using the stacking Method"
   ]
  },
  {
   "cell_type": "code",
   "execution_count": 99,
   "metadata": {},
   "outputs": [],
   "source": [
    "# Also define the blender\n",
    "from sklearn.svm import LinearSVR\n",
    "blender = SVC(kernel=\"rbf\", random_state = 862)"
   ]
  },
  {
   "cell_type": "code",
   "execution_count": 100,
   "metadata": {},
   "outputs": [],
   "source": [
    "# First we will define the base learners. We will put them in a dictionary\n",
    "models = {'lr': lr, 'DT': DT, 'knn': knn, 'svm': svm}"
   ]
  },
  {
   "cell_type": "code",
   "execution_count": 101,
   "metadata": {},
   "outputs": [],
   "source": [
    "# Scale data\n",
    "from sklearn.preprocessing import StandardScaler\n",
    "scale = StandardScaler()\n",
    "X_trainS = scale.fit_transform(X_train)"
   ]
  },
  {
   "cell_type": "code",
   "execution_count": 102,
   "metadata": {},
   "outputs": [],
   "source": [
    "# Now split the training data into two parts, one to train the weak learners, another to train the blender\n",
    "X_trainS1, X_trainS2, y_train1, y_train2 = train_test_split(X_trainS, y_train, \n",
    "                                                            test_size = 0.5, random_state = 908) \n"
   ]
  },
  {
   "cell_type": "code",
   "execution_count": 103,
   "metadata": {},
   "outputs": [],
   "source": [
    "#train weak learners\n",
    "for name, model in models.items():\n",
    "    model.fit(X_trainS1, y_train1)"
   ]
  },
  {
   "cell_type": "code",
   "execution_count": 104,
   "metadata": {},
   "outputs": [
    {
     "data": {
      "text/plain": [
       "SVC(random_state=862)"
      ]
     },
     "execution_count": 104,
     "metadata": {},
     "output_type": "execute_result"
    }
   ],
   "source": [
    "# Train the blender\n",
    "# Get the prediction\n",
    "predictions = pd.DataFrame() # Set up a dataframe to store the predictions\n",
    "for name, model in models.items():\n",
    "    predictions[name] = model.predict(X_trainS2)\n",
    "\n",
    "# Get the blender\n",
    "scaler_blend = StandardScaler() # Scale the predictions for SVR\n",
    "predictions_scale = scaler_blend.fit_transform(predictions)\n",
    "blender.fit(predictions_scale, y_train2)"
   ]
  },
  {
   "cell_type": "code",
   "execution_count": 106,
   "metadata": {},
   "outputs": [
    {
     "data": {
      "text/plain": [
       "0.23157072353818822"
      ]
     },
     "execution_count": 106,
     "metadata": {},
     "output_type": "execute_result"
    }
   ],
   "source": [
    "# Perform evaluation\n",
    "# First send the data through the weak learners\n",
    "predictions = pd.DataFrame() # Set up a dataframe to store the predictions\n",
    "for name, model in models.items():\n",
    "    predictions[name] = model.predict(X_testS)\n",
    "    \n",
    "# Prediction through the blender, and evaluate\n",
    "predictions_scale = scaler_blend.transform(predictions)\n",
    "np.sqrt(mean_squared_error(blender.predict(predictions_scale), y_test))"
   ]
  },
  {
   "cell_type": "markdown",
   "metadata": {},
   "source": [
    "# Results"
   ]
  },
  {
   "cell_type": "code",
   "execution_count": 118,
   "metadata": {},
   "outputs": [
    {
     "name": "stdout",
     "output_type": "stream",
     "text": [
      "[0 0 0 ... 0 0 1]\n",
      "0.8525\n"
     ]
    }
   ],
   "source": [
    "# Naives bayes\n",
    "print(MNB.predict(X_test))\n",
    "print(np.mean(MNB.predict(X_test) == y_test))"
   ]
  },
  {
   "cell_type": "code",
   "execution_count": 117,
   "metadata": {},
   "outputs": [
    {
     "name": "stdout",
     "output_type": "stream",
     "text": [
      "0.95125\n"
     ]
    }
   ],
   "source": [
    "#svm - rbf\n",
    "\n",
    "print(np.mean(rbf_clf.predict(X_test) == y_test))"
   ]
  },
  {
   "cell_type": "code",
   "execution_count": 119,
   "metadata": {},
   "outputs": [
    {
     "name": "stdout",
     "output_type": "stream",
     "text": [
      "Accuracy for Neural Network is: 0.94875\n"
     ]
    }
   ],
   "source": [
    "# neuron netwrk test set accuracy at 0.94875\n",
    "\n",
    "accuracy_nn_val=np.mean(grd_cv.predict(X_valid_s ).reshape(1,X_valid_s.shape[0]) == np.array(y_valid))\n",
    "print(\"Neural Network accuracy is:\", accuracy_nn_val)"
   ]
  },
  {
   "cell_type": "code",
   "execution_count": 120,
   "metadata": {},
   "outputs": [
    {
     "data": {
      "text/plain": [
       "0.23157072353818822"
      ]
     },
     "execution_count": 120,
     "metadata": {},
     "output_type": "execute_result"
    }
   ],
   "source": [
    "# emsemble method\n",
    "\n",
    "# Perform evaluation\n",
    "# First send the data through the weak learners\n",
    "predictions = pd.DataFrame() # Set up a dataframe to store the predictions\n",
    "for name, model in models.items():\n",
    "    predictions[name] = model.predict(X_testS)\n",
    "    \n",
    "# Prediction through the blender, and evaluate\n",
    "predictions_scale = scaler_blend.transform(predictions)\n",
    "np.sqrt(mean_squared_error(blender.predict(predictions_scale), y_test))"
   ]
  },
  {
   "cell_type": "code",
   "execution_count": null,
   "metadata": {},
   "outputs": [],
   "source": []
  },
  {
   "cell_type": "markdown",
   "metadata": {},
   "source": [
    "# Using the test sets "
   ]
  },
  {
   "cell_type": "code",
   "execution_count": 76,
   "metadata": {},
   "outputs": [
    {
     "data": {
      "text/plain": [
       "(63717, 24)"
      ]
     },
     "execution_count": 76,
     "metadata": {},
     "output_type": "execute_result"
    }
   ],
   "source": [
    "df1 = pd.read_csv(\"air_testing_withlabel.csv\")\n",
    "df1.shape"
   ]
  },
  {
   "cell_type": "code",
   "execution_count": 132,
   "metadata": {},
   "outputs": [
    {
     "data": {
      "text/html": [
       "<div>\n",
       "<style scoped>\n",
       "    .dataframe tbody tr th:only-of-type {\n",
       "        vertical-align: middle;\n",
       "    }\n",
       "\n",
       "    .dataframe tbody tr th {\n",
       "        vertical-align: top;\n",
       "    }\n",
       "\n",
       "    .dataframe thead th {\n",
       "        text-align: right;\n",
       "    }\n",
       "</style>\n",
       "<table border=\"1\" class=\"dataframe\">\n",
       "  <thead>\n",
       "    <tr style=\"text-align: right;\">\n",
       "      <th></th>\n",
       "      <th>id</th>\n",
       "      <th>Age</th>\n",
       "      <th>Flight.Distance</th>\n",
       "      <th>Inflight.wifi.service</th>\n",
       "      <th>Departure.Arrival.time.convenient</th>\n",
       "      <th>Ease.of.Online.booking</th>\n",
       "      <th>Gate.location</th>\n",
       "      <th>Food.and.drink</th>\n",
       "      <th>Online.boarding</th>\n",
       "      <th>Seat.comfort</th>\n",
       "      <th>Inflight.entertainment</th>\n",
       "      <th>On.board.service</th>\n",
       "      <th>Leg.room.service</th>\n",
       "      <th>Baggage.handling</th>\n",
       "      <th>Checkin.service</th>\n",
       "      <th>Inflight.service</th>\n",
       "      <th>Cleanliness</th>\n",
       "      <th>Departure.Delay.in.Minutes</th>\n",
       "      <th>Arrival.Delay.in.Minutes</th>\n",
       "      <th>satisfaction</th>\n",
       "    </tr>\n",
       "  </thead>\n",
       "  <tbody>\n",
       "    <tr>\n",
       "      <th>count</th>\n",
       "      <td>63717.000000</td>\n",
       "      <td>63717.000000</td>\n",
       "      <td>63717.000000</td>\n",
       "      <td>63717.000000</td>\n",
       "      <td>63717.000000</td>\n",
       "      <td>63717.000000</td>\n",
       "      <td>63717.000000</td>\n",
       "      <td>63717.000000</td>\n",
       "      <td>63717.000000</td>\n",
       "      <td>63717.000000</td>\n",
       "      <td>63717.000000</td>\n",
       "      <td>63717.000000</td>\n",
       "      <td>63717.000000</td>\n",
       "      <td>63717.000000</td>\n",
       "      <td>63717.000000</td>\n",
       "      <td>63717.000000</td>\n",
       "      <td>63717.000000</td>\n",
       "      <td>63717.000000</td>\n",
       "      <td>63717.000000</td>\n",
       "      <td>63717.000000</td>\n",
       "    </tr>\n",
       "    <tr>\n",
       "      <th>mean</th>\n",
       "      <td>31859.000000</td>\n",
       "      <td>39.416341</td>\n",
       "      <td>1193.284649</td>\n",
       "      <td>2.729523</td>\n",
       "      <td>3.063594</td>\n",
       "      <td>2.754901</td>\n",
       "      <td>2.975988</td>\n",
       "      <td>3.197137</td>\n",
       "      <td>3.252507</td>\n",
       "      <td>3.438454</td>\n",
       "      <td>3.355227</td>\n",
       "      <td>3.384058</td>\n",
       "      <td>3.350189</td>\n",
       "      <td>3.632233</td>\n",
       "      <td>3.307171</td>\n",
       "      <td>3.641587</td>\n",
       "      <td>3.282201</td>\n",
       "      <td>14.655806</td>\n",
       "      <td>15.105592</td>\n",
       "      <td>0.434091</td>\n",
       "    </tr>\n",
       "    <tr>\n",
       "      <th>std</th>\n",
       "      <td>18393.657888</td>\n",
       "      <td>15.105904</td>\n",
       "      <td>1000.145743</td>\n",
       "      <td>1.329241</td>\n",
       "      <td>1.525807</td>\n",
       "      <td>1.400952</td>\n",
       "      <td>1.280619</td>\n",
       "      <td>1.332438</td>\n",
       "      <td>1.349116</td>\n",
       "      <td>1.322193</td>\n",
       "      <td>1.336290</td>\n",
       "      <td>1.287082</td>\n",
       "      <td>1.314797</td>\n",
       "      <td>1.180219</td>\n",
       "      <td>1.263685</td>\n",
       "      <td>1.175534</td>\n",
       "      <td>1.314352</td>\n",
       "      <td>37.315862</td>\n",
       "      <td>38.001164</td>\n",
       "      <td>0.495641</td>\n",
       "    </tr>\n",
       "    <tr>\n",
       "      <th>min</th>\n",
       "      <td>1.000000</td>\n",
       "      <td>7.000000</td>\n",
       "      <td>31.000000</td>\n",
       "      <td>0.000000</td>\n",
       "      <td>0.000000</td>\n",
       "      <td>0.000000</td>\n",
       "      <td>0.000000</td>\n",
       "      <td>0.000000</td>\n",
       "      <td>0.000000</td>\n",
       "      <td>0.000000</td>\n",
       "      <td>0.000000</td>\n",
       "      <td>0.000000</td>\n",
       "      <td>0.000000</td>\n",
       "      <td>1.000000</td>\n",
       "      <td>0.000000</td>\n",
       "      <td>0.000000</td>\n",
       "      <td>0.000000</td>\n",
       "      <td>0.000000</td>\n",
       "      <td>0.000000</td>\n",
       "      <td>0.000000</td>\n",
       "    </tr>\n",
       "    <tr>\n",
       "      <th>25%</th>\n",
       "      <td>15930.000000</td>\n",
       "      <td>27.000000</td>\n",
       "      <td>414.000000</td>\n",
       "      <td>2.000000</td>\n",
       "      <td>2.000000</td>\n",
       "      <td>2.000000</td>\n",
       "      <td>2.000000</td>\n",
       "      <td>2.000000</td>\n",
       "      <td>2.000000</td>\n",
       "      <td>2.000000</td>\n",
       "      <td>2.000000</td>\n",
       "      <td>2.000000</td>\n",
       "      <td>2.000000</td>\n",
       "      <td>3.000000</td>\n",
       "      <td>3.000000</td>\n",
       "      <td>3.000000</td>\n",
       "      <td>2.000000</td>\n",
       "      <td>0.000000</td>\n",
       "      <td>0.000000</td>\n",
       "      <td>0.000000</td>\n",
       "    </tr>\n",
       "    <tr>\n",
       "      <th>50%</th>\n",
       "      <td>31859.000000</td>\n",
       "      <td>40.000000</td>\n",
       "      <td>844.000000</td>\n",
       "      <td>3.000000</td>\n",
       "      <td>3.000000</td>\n",
       "      <td>3.000000</td>\n",
       "      <td>3.000000</td>\n",
       "      <td>3.000000</td>\n",
       "      <td>3.000000</td>\n",
       "      <td>4.000000</td>\n",
       "      <td>4.000000</td>\n",
       "      <td>4.000000</td>\n",
       "      <td>4.000000</td>\n",
       "      <td>4.000000</td>\n",
       "      <td>3.000000</td>\n",
       "      <td>4.000000</td>\n",
       "      <td>3.000000</td>\n",
       "      <td>0.000000</td>\n",
       "      <td>0.000000</td>\n",
       "      <td>0.000000</td>\n",
       "    </tr>\n",
       "    <tr>\n",
       "      <th>75%</th>\n",
       "      <td>47788.000000</td>\n",
       "      <td>51.000000</td>\n",
       "      <td>1744.000000</td>\n",
       "      <td>4.000000</td>\n",
       "      <td>4.000000</td>\n",
       "      <td>4.000000</td>\n",
       "      <td>4.000000</td>\n",
       "      <td>4.000000</td>\n",
       "      <td>4.000000</td>\n",
       "      <td>5.000000</td>\n",
       "      <td>4.000000</td>\n",
       "      <td>4.000000</td>\n",
       "      <td>4.000000</td>\n",
       "      <td>5.000000</td>\n",
       "      <td>4.000000</td>\n",
       "      <td>5.000000</td>\n",
       "      <td>4.000000</td>\n",
       "      <td>12.000000</td>\n",
       "      <td>13.000000</td>\n",
       "      <td>1.000000</td>\n",
       "    </tr>\n",
       "    <tr>\n",
       "      <th>max</th>\n",
       "      <td>63717.000000</td>\n",
       "      <td>85.000000</td>\n",
       "      <td>4983.000000</td>\n",
       "      <td>5.000000</td>\n",
       "      <td>5.000000</td>\n",
       "      <td>5.000000</td>\n",
       "      <td>5.000000</td>\n",
       "      <td>5.000000</td>\n",
       "      <td>5.000000</td>\n",
       "      <td>5.000000</td>\n",
       "      <td>5.000000</td>\n",
       "      <td>5.000000</td>\n",
       "      <td>5.000000</td>\n",
       "      <td>5.000000</td>\n",
       "      <td>5.000000</td>\n",
       "      <td>5.000000</td>\n",
       "      <td>5.000000</td>\n",
       "      <td>1592.000000</td>\n",
       "      <td>1584.000000</td>\n",
       "      <td>1.000000</td>\n",
       "    </tr>\n",
       "  </tbody>\n",
       "</table>\n",
       "</div>"
      ],
      "text/plain": [
       "                 id           Age  Flight.Distance  Inflight.wifi.service  \\\n",
       "count  63717.000000  63717.000000     63717.000000           63717.000000   \n",
       "mean   31859.000000     39.416341      1193.284649               2.729523   \n",
       "std    18393.657888     15.105904      1000.145743               1.329241   \n",
       "min        1.000000      7.000000        31.000000               0.000000   \n",
       "25%    15930.000000     27.000000       414.000000               2.000000   \n",
       "50%    31859.000000     40.000000       844.000000               3.000000   \n",
       "75%    47788.000000     51.000000      1744.000000               4.000000   \n",
       "max    63717.000000     85.000000      4983.000000               5.000000   \n",
       "\n",
       "       Departure.Arrival.time.convenient  Ease.of.Online.booking  \\\n",
       "count                       63717.000000            63717.000000   \n",
       "mean                            3.063594                2.754901   \n",
       "std                             1.525807                1.400952   \n",
       "min                             0.000000                0.000000   \n",
       "25%                             2.000000                2.000000   \n",
       "50%                             3.000000                3.000000   \n",
       "75%                             4.000000                4.000000   \n",
       "max                             5.000000                5.000000   \n",
       "\n",
       "       Gate.location  Food.and.drink  Online.boarding  Seat.comfort  \\\n",
       "count   63717.000000    63717.000000     63717.000000  63717.000000   \n",
       "mean        2.975988        3.197137         3.252507      3.438454   \n",
       "std         1.280619        1.332438         1.349116      1.322193   \n",
       "min         0.000000        0.000000         0.000000      0.000000   \n",
       "25%         2.000000        2.000000         2.000000      2.000000   \n",
       "50%         3.000000        3.000000         3.000000      4.000000   \n",
       "75%         4.000000        4.000000         4.000000      5.000000   \n",
       "max         5.000000        5.000000         5.000000      5.000000   \n",
       "\n",
       "       Inflight.entertainment  On.board.service  Leg.room.service  \\\n",
       "count            63717.000000      63717.000000      63717.000000   \n",
       "mean                 3.355227          3.384058          3.350189   \n",
       "std                  1.336290          1.287082          1.314797   \n",
       "min                  0.000000          0.000000          0.000000   \n",
       "25%                  2.000000          2.000000          2.000000   \n",
       "50%                  4.000000          4.000000          4.000000   \n",
       "75%                  4.000000          4.000000          4.000000   \n",
       "max                  5.000000          5.000000          5.000000   \n",
       "\n",
       "       Baggage.handling  Checkin.service  Inflight.service   Cleanliness  \\\n",
       "count      63717.000000     63717.000000      63717.000000  63717.000000   \n",
       "mean           3.632233         3.307171          3.641587      3.282201   \n",
       "std            1.180219         1.263685          1.175534      1.314352   \n",
       "min            1.000000         0.000000          0.000000      0.000000   \n",
       "25%            3.000000         3.000000          3.000000      2.000000   \n",
       "50%            4.000000         3.000000          4.000000      3.000000   \n",
       "75%            5.000000         4.000000          5.000000      4.000000   \n",
       "max            5.000000         5.000000          5.000000      5.000000   \n",
       "\n",
       "       Departure.Delay.in.Minutes  Arrival.Delay.in.Minutes  satisfaction  \n",
       "count                63717.000000              63717.000000  63717.000000  \n",
       "mean                    14.655806                 15.105592      0.434091  \n",
       "std                     37.315862                 38.001164      0.495641  \n",
       "min                      0.000000                  0.000000      0.000000  \n",
       "25%                      0.000000                  0.000000      0.000000  \n",
       "50%                      0.000000                  0.000000      0.000000  \n",
       "75%                     12.000000                 13.000000      1.000000  \n",
       "max                   1592.000000               1584.000000      1.000000  "
      ]
     },
     "execution_count": 132,
     "metadata": {},
     "output_type": "execute_result"
    }
   ],
   "source": [
    "df1.describe()\n",
    "\n",
    "#thast great, no null values"
   ]
  },
  {
   "cell_type": "code",
   "execution_count": 127,
   "metadata": {},
   "outputs": [],
   "source": [
    "# Encode the first column to be categorical\n",
    "df1['satisfaction'] = LabelEncoder().fit_transform(df1['satisfaction']) \n"
   ]
  },
  {
   "cell_type": "code",
   "execution_count": 135,
   "metadata": {},
   "outputs": [
    {
     "data": {
      "text/plain": [
       "(63717, 22)"
      ]
     },
     "execution_count": 135,
     "metadata": {},
     "output_type": "execute_result"
    }
   ],
   "source": [
    "# Transform the Departure.Delay.in.Minutes features to more normally distributed\n",
    "df1['Departure.Delay.in.Minutes'] = np.log(1 + df1['Departure.Delay.in.Minutes'])\n",
    "\n",
    "\n",
    "X = df1.drop([\"id\", \"Arrival.Delay.in.Minutes\", \"satisfaction\"], axis=1)\n",
    "y = df1['satisfaction']\n",
    "\n",
    "#now we have our dataset ready for testing\n",
    "X = pd.get_dummies(X, drop_first= True)\n",
    "X.shape"
   ]
  },
  {
   "cell_type": "markdown",
   "metadata": {},
   "source": [
    "# Using this cleaned data on our new test set"
   ]
  },
  {
   "cell_type": "code",
   "execution_count": 141,
   "metadata": {},
   "outputs": [
    {
     "name": "stdout",
     "output_type": "stream",
     "text": [
      "0.8516722381781942\n"
     ]
    }
   ],
   "source": [
    "# Naives bayes\n",
    "\n",
    "NB_new = MNB.predict(X)\n",
    "print(np.mean(MNB.predict(X) == y))\n",
    "\n",
    "# predictions seems to be the same as the earlier ran sets, guess we dint do a bad job on our training sets "
   ]
  },
  {
   "cell_type": "code",
   "execution_count": 137,
   "metadata": {},
   "outputs": [
    {
     "name": "stdout",
     "output_type": "stream",
     "text": [
      "0.9544077718662209\n"
     ]
    }
   ],
   "source": [
    "#svm - rbf - the prediction on the new dataset, seems to be running great also\n",
    "print(np.mean(rbf_clf.predict(X) == y))"
   ]
  },
  {
   "cell_type": "code",
   "execution_count": 184,
   "metadata": {},
   "outputs": [
    {
     "name": "stdout",
     "output_type": "stream",
     "text": [
      "Accuracy for Neural Network is: 0.4401651050739991\n"
     ]
    }
   ],
   "source": [
    "#NeuralNetwork\n",
    "accuracy_nn_val=np.mean(grd_cv.predict(X).reshape(1,X.shape[0]) == np.array(y))\n",
    "print(\"Accuracy for Neural Network is:\", accuracy_nn_val)\n",
    "\n",
    "#seems our neural netwrk dint do well on the new test set"
   ]
  },
  {
   "cell_type": "code",
   "execution_count": 139,
   "metadata": {},
   "outputs": [
    {
     "data": {
      "text/plain": [
       "0.6588561093205796"
      ]
     },
     "execution_count": 139,
     "metadata": {},
     "output_type": "execute_result"
    }
   ],
   "source": [
    "# emsemble method\n",
    "\n",
    "# Perform evaluation\n",
    "# First send the data through the weak learners\n",
    "predictions = pd.DataFrame() # Set up a dataframe to store the predictions\n",
    "for name, model in models.items():\n",
    "    predictions[name] = model.predict(X)\n",
    "    \n",
    "# Prediction through the blender, and evaluate\n",
    "predictions_scale = scaler_blend.transform(predictions)\n",
    "np.sqrt(mean_squared_error(blender.predict(predictions_scale), y))\n",
    "\n",
    "#seems we did better with the testing set"
   ]
  },
  {
   "cell_type": "code",
   "execution_count": 166,
   "metadata": {},
   "outputs": [],
   "source": [
    "#lets create a new geature for our prediction\n",
    "df1['Rbf_SVM'] = pd.DataFrame(rbf_clf.predict(X))  \n",
    "df1['NaivesBayes'] = pd.DataFrame(NB_new)  \n",
    "df1['stacking'] = pd.DataFrame(model.predict(X))\n",
    "df1['NeuralNetwrk'] = pd.DataFrame(grd_cv.predict(X))"
   ]
  },
  {
   "cell_type": "code",
   "execution_count": 183,
   "metadata": {},
   "outputs": [
    {
     "data": {
      "text/html": [
       "<div>\n",
       "<style scoped>\n",
       "    .dataframe tbody tr th:only-of-type {\n",
       "        vertical-align: middle;\n",
       "    }\n",
       "\n",
       "    .dataframe tbody tr th {\n",
       "        vertical-align: top;\n",
       "    }\n",
       "\n",
       "    .dataframe thead th {\n",
       "        text-align: right;\n",
       "    }\n",
       "</style>\n",
       "<table border=\"1\" class=\"dataframe\">\n",
       "  <thead>\n",
       "    <tr style=\"text-align: right;\">\n",
       "      <th></th>\n",
       "      <th>id</th>\n",
       "      <th>Rbf_SVM</th>\n",
       "      <th>NeuralNetwrk</th>\n",
       "      <th>NaivesBayes</th>\n",
       "      <th>stacking</th>\n",
       "    </tr>\n",
       "  </thead>\n",
       "  <tbody>\n",
       "    <tr>\n",
       "      <th>0</th>\n",
       "      <td>1</td>\n",
       "      <td>1</td>\n",
       "      <td>1</td>\n",
       "      <td>1</td>\n",
       "      <td>1</td>\n",
       "    </tr>\n",
       "    <tr>\n",
       "      <th>1</th>\n",
       "      <td>2</td>\n",
       "      <td>0</td>\n",
       "      <td>1</td>\n",
       "      <td>0</td>\n",
       "      <td>1</td>\n",
       "    </tr>\n",
       "    <tr>\n",
       "      <th>2</th>\n",
       "      <td>3</td>\n",
       "      <td>1</td>\n",
       "      <td>1</td>\n",
       "      <td>1</td>\n",
       "      <td>1</td>\n",
       "    </tr>\n",
       "    <tr>\n",
       "      <th>3</th>\n",
       "      <td>4</td>\n",
       "      <td>0</td>\n",
       "      <td>1</td>\n",
       "      <td>0</td>\n",
       "      <td>1</td>\n",
       "    </tr>\n",
       "    <tr>\n",
       "      <th>4</th>\n",
       "      <td>5</td>\n",
       "      <td>1</td>\n",
       "      <td>1</td>\n",
       "      <td>1</td>\n",
       "      <td>1</td>\n",
       "    </tr>\n",
       "    <tr>\n",
       "      <th>...</th>\n",
       "      <td>...</td>\n",
       "      <td>...</td>\n",
       "      <td>...</td>\n",
       "      <td>...</td>\n",
       "      <td>...</td>\n",
       "    </tr>\n",
       "    <tr>\n",
       "      <th>63712</th>\n",
       "      <td>63713</td>\n",
       "      <td>1</td>\n",
       "      <td>1</td>\n",
       "      <td>1</td>\n",
       "      <td>1</td>\n",
       "    </tr>\n",
       "    <tr>\n",
       "      <th>63713</th>\n",
       "      <td>63714</td>\n",
       "      <td>1</td>\n",
       "      <td>1</td>\n",
       "      <td>1</td>\n",
       "      <td>1</td>\n",
       "    </tr>\n",
       "    <tr>\n",
       "      <th>63714</th>\n",
       "      <td>63715</td>\n",
       "      <td>0</td>\n",
       "      <td>1</td>\n",
       "      <td>0</td>\n",
       "      <td>1</td>\n",
       "    </tr>\n",
       "    <tr>\n",
       "      <th>63715</th>\n",
       "      <td>63716</td>\n",
       "      <td>0</td>\n",
       "      <td>1</td>\n",
       "      <td>0</td>\n",
       "      <td>1</td>\n",
       "    </tr>\n",
       "    <tr>\n",
       "      <th>63716</th>\n",
       "      <td>63717</td>\n",
       "      <td>0</td>\n",
       "      <td>1</td>\n",
       "      <td>0</td>\n",
       "      <td>1</td>\n",
       "    </tr>\n",
       "  </tbody>\n",
       "</table>\n",
       "<p>63717 rows × 5 columns</p>\n",
       "</div>"
      ],
      "text/plain": [
       "          id  Rbf_SVM  NeuralNetwrk  NaivesBayes  stacking\n",
       "0          1        1             1            1         1\n",
       "1          2        0             1            0         1\n",
       "2          3        1             1            1         1\n",
       "3          4        0             1            0         1\n",
       "4          5        1             1            1         1\n",
       "...      ...      ...           ...          ...       ...\n",
       "63712  63713        1             1            1         1\n",
       "63713  63714        1             1            1         1\n",
       "63714  63715        0             1            0         1\n",
       "63715  63716        0             1            0         1\n",
       "63716  63717        0             1            0         1\n",
       "\n",
       "[63717 rows x 5 columns]"
      ]
     },
     "execution_count": 183,
     "metadata": {},
     "output_type": "execute_result"
    }
   ],
   "source": [
    "New_df = df1[['id',  'Rbf_SVM', 'NeuralNetwrk', 'NaivesBayes', 'stacking']]\n",
    "pd.DataFrame(New_df)"
   ]
  },
  {
   "cell_type": "code",
   "execution_count": 195,
   "metadata": {},
   "outputs": [],
   "source": [
    "New_df = df1[[ 'Rbf_SVM', 'NeuralNetwrk', 'NaivesBayes', 'stacking']].replace([0, 1], ['neutral or dissatisfied', 'satisfied'])\n"
   ]
  },
  {
   "cell_type": "code",
   "execution_count": 194,
   "metadata": {},
   "outputs": [
    {
     "data": {
      "text/html": [
       "<div>\n",
       "<style scoped>\n",
       "    .dataframe tbody tr th:only-of-type {\n",
       "        vertical-align: middle;\n",
       "    }\n",
       "\n",
       "    .dataframe tbody tr th {\n",
       "        vertical-align: top;\n",
       "    }\n",
       "\n",
       "    .dataframe thead th {\n",
       "        text-align: right;\n",
       "    }\n",
       "</style>\n",
       "<table border=\"1\" class=\"dataframe\">\n",
       "  <thead>\n",
       "    <tr style=\"text-align: right;\">\n",
       "      <th></th>\n",
       "      <th>id</th>\n",
       "      <th>Rbf_SVM</th>\n",
       "      <th>NeuralNetwrk</th>\n",
       "      <th>NaivesBayes</th>\n",
       "      <th>stacking</th>\n",
       "    </tr>\n",
       "  </thead>\n",
       "  <tbody>\n",
       "    <tr>\n",
       "      <th>0</th>\n",
       "      <td>1</td>\n",
       "      <td>satisfied</td>\n",
       "      <td>satisfied</td>\n",
       "      <td>satisfied</td>\n",
       "      <td>satisfied</td>\n",
       "    </tr>\n",
       "    <tr>\n",
       "      <th>1</th>\n",
       "      <td>2</td>\n",
       "      <td>neutral or dissatisfied</td>\n",
       "      <td>satisfied</td>\n",
       "      <td>neutral or dissatisfied</td>\n",
       "      <td>satisfied</td>\n",
       "    </tr>\n",
       "    <tr>\n",
       "      <th>2</th>\n",
       "      <td>3</td>\n",
       "      <td>satisfied</td>\n",
       "      <td>satisfied</td>\n",
       "      <td>satisfied</td>\n",
       "      <td>satisfied</td>\n",
       "    </tr>\n",
       "    <tr>\n",
       "      <th>3</th>\n",
       "      <td>4</td>\n",
       "      <td>neutral or dissatisfied</td>\n",
       "      <td>satisfied</td>\n",
       "      <td>neutral or dissatisfied</td>\n",
       "      <td>satisfied</td>\n",
       "    </tr>\n",
       "    <tr>\n",
       "      <th>4</th>\n",
       "      <td>5</td>\n",
       "      <td>satisfied</td>\n",
       "      <td>satisfied</td>\n",
       "      <td>satisfied</td>\n",
       "      <td>satisfied</td>\n",
       "    </tr>\n",
       "    <tr>\n",
       "      <th>...</th>\n",
       "      <td>...</td>\n",
       "      <td>...</td>\n",
       "      <td>...</td>\n",
       "      <td>...</td>\n",
       "      <td>...</td>\n",
       "    </tr>\n",
       "    <tr>\n",
       "      <th>63712</th>\n",
       "      <td>63713</td>\n",
       "      <td>satisfied</td>\n",
       "      <td>satisfied</td>\n",
       "      <td>satisfied</td>\n",
       "      <td>satisfied</td>\n",
       "    </tr>\n",
       "    <tr>\n",
       "      <th>63713</th>\n",
       "      <td>63714</td>\n",
       "      <td>satisfied</td>\n",
       "      <td>satisfied</td>\n",
       "      <td>satisfied</td>\n",
       "      <td>satisfied</td>\n",
       "    </tr>\n",
       "    <tr>\n",
       "      <th>63714</th>\n",
       "      <td>63715</td>\n",
       "      <td>neutral or dissatisfied</td>\n",
       "      <td>satisfied</td>\n",
       "      <td>neutral or dissatisfied</td>\n",
       "      <td>satisfied</td>\n",
       "    </tr>\n",
       "    <tr>\n",
       "      <th>63715</th>\n",
       "      <td>63716</td>\n",
       "      <td>neutral or dissatisfied</td>\n",
       "      <td>satisfied</td>\n",
       "      <td>neutral or dissatisfied</td>\n",
       "      <td>satisfied</td>\n",
       "    </tr>\n",
       "    <tr>\n",
       "      <th>63716</th>\n",
       "      <td>63717</td>\n",
       "      <td>neutral or dissatisfied</td>\n",
       "      <td>satisfied</td>\n",
       "      <td>neutral or dissatisfied</td>\n",
       "      <td>satisfied</td>\n",
       "    </tr>\n",
       "  </tbody>\n",
       "</table>\n",
       "<p>63717 rows × 5 columns</p>\n",
       "</div>"
      ],
      "text/plain": [
       "          id                  Rbf_SVM NeuralNetwrk              NaivesBayes  \\\n",
       "0          1                satisfied    satisfied                satisfied   \n",
       "1          2  neutral or dissatisfied    satisfied  neutral or dissatisfied   \n",
       "2          3                satisfied    satisfied                satisfied   \n",
       "3          4  neutral or dissatisfied    satisfied  neutral or dissatisfied   \n",
       "4          5                satisfied    satisfied                satisfied   \n",
       "...      ...                      ...          ...                      ...   \n",
       "63712  63713                satisfied    satisfied                satisfied   \n",
       "63713  63714                satisfied    satisfied                satisfied   \n",
       "63714  63715  neutral or dissatisfied    satisfied  neutral or dissatisfied   \n",
       "63715  63716  neutral or dissatisfied    satisfied  neutral or dissatisfied   \n",
       "63716  63717  neutral or dissatisfied    satisfied  neutral or dissatisfied   \n",
       "\n",
       "        stacking  \n",
       "0      satisfied  \n",
       "1      satisfied  \n",
       "2      satisfied  \n",
       "3      satisfied  \n",
       "4      satisfied  \n",
       "...          ...  \n",
       "63712  satisfied  \n",
       "63713  satisfied  \n",
       "63714  satisfied  \n",
       "63715  satisfied  \n",
       "63716  satisfied  \n",
       "\n",
       "[63717 rows x 5 columns]"
      ]
     },
     "execution_count": 194,
     "metadata": {},
     "output_type": "execute_result"
    }
   ],
   "source": [
    "# New dataframe obtained\n",
    "Newdf = pd.concat([df1['id'], New_df], axis= 1)\n",
    "Newdf"
   ]
  },
  {
   "cell_type": "code",
   "execution_count": null,
   "metadata": {},
   "outputs": [],
   "source": [
    "# we can conclude that some models did way better than the ithers, but im glad we did this cos it shows we can put our modelling and porediction skills to see the results on realtime dataset"
   ]
  }
 ],
 "metadata": {
  "kernelspec": {
   "display_name": "Python 3",
   "language": "python",
   "name": "python3"
  },
  "language_info": {
   "codemirror_mode": {
    "name": "ipython",
    "version": 3
   },
   "file_extension": ".py",
   "mimetype": "text/x-python",
   "name": "python",
   "nbconvert_exporter": "python",
   "pygments_lexer": "ipython3",
   "version": "3.8.5"
  }
 },
 "nbformat": 4,
 "nbformat_minor": 4
}
